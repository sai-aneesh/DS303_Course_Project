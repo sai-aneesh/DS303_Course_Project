{
  "nbformat": 4,
  "nbformat_minor": 0,
  "metadata": {
    "colab": {
      "name": "RNN.ipynb",
      "provenance": [],
      "collapsed_sections": [],
      "toc_visible": true
    },
    "kernelspec": {
      "name": "python3",
      "display_name": "Python 3"
    },
    "language_info": {
      "name": "python"
    }
  },
  "cells": [
    {
      "cell_type": "markdown",
      "metadata": {
        "id": "-XCIRPfsLBXT"
      },
      "source": [
        "# Importing libraries and mounting the Drive"
      ]
    },
    {
      "cell_type": "code",
      "metadata": {
        "colab": {
          "base_uri": "https://localhost:8080/"
        },
        "id": "pM7Q1x8io9Et",
        "outputId": "981e570b-3ced-4643-866b-a19da601e154"
      },
      "source": [
        "import json\n",
        "import numpy as np\n",
        "from sklearn.model_selection import train_test_split\n",
        "import tensorflow.keras as keras\n",
        "import matplotlib.pyplot as plt\n",
        "\n",
        "from google.colab import drive\n",
        "drive.mount(\"/content/gdrive\")"
      ],
      "execution_count": 1,
      "outputs": [
        {
          "output_type": "stream",
          "name": "stdout",
          "text": [
            "Mounted at /content/gdrive\n"
          ]
        }
      ]
    },
    {
      "cell_type": "markdown",
      "metadata": {
        "id": "gKrwgs0SLJgF"
      },
      "source": [
        "# Loading the JSON data"
      ]
    },
    {
      "cell_type": "code",
      "metadata": {
        "id": "lWoGU_XjpHOh"
      },
      "source": [
        "DATA_PATH = \"/content/gdrive/MyDrive/ME_781_Adi/data.json\"\n"
      ],
      "execution_count": 2,
      "outputs": []
    },
    {
      "cell_type": "code",
      "metadata": {
        "id": "DvcYwLdvptxN"
      },
      "source": [
        "def load_data(data_path):\n",
        "  \n",
        "\n",
        "    with open(data_path, \"r\") as fp:\n",
        "        data = json.load(fp)\n",
        "\n",
        "    X = np.array(data[\"mfcc\"])\n",
        "    y = np.array(data[\"labels\"])\n",
        "    return X, y\n"
      ],
      "execution_count": 3,
      "outputs": []
    },
    {
      "cell_type": "markdown",
      "metadata": {
        "id": "1KQ5QOe7Lqzf"
      },
      "source": [
        "# Plotting the history\n",
        "- Plotting history (training and testing) plots to be shown later"
      ]
    },
    {
      "cell_type": "code",
      "metadata": {
        "id": "7ZJxZLYYqYYz"
      },
      "source": [
        "def plot_history(history):\n",
        "    fig, axs = plt.subplots(2)\n",
        "\n",
        "    # create accuracy sublpot\n",
        "    axs[0].plot(history.history[\"accuracy\"], label=\"train accuracy\")\n",
        "    axs[0].plot(history.history[\"val_accuracy\"], label=\"test accuracy\")\n",
        "    axs[0].set_ylabel(\"Accuracy\")\n",
        "    axs[0].legend(loc=\"lower right\")\n",
        "    axs[0].set_title(\"Accuracy eval\")\n",
        "\n",
        "    # create error sublpot\n",
        "    axs[1].plot(history.history[\"loss\"], label=\"train error\")\n",
        "    axs[1].plot(history.history[\"val_loss\"], label=\"test error\")\n",
        "    axs[1].set_ylabel(\"Error\")\n",
        "    axs[1].set_xlabel(\"Epoch\")\n",
        "    axs[1].legend(loc=\"upper right\")\n",
        "    axs[1].set_title(\"Error eval\")\n",
        "\n",
        "    plt.show()\n"
      ],
      "execution_count": 4,
      "outputs": []
    },
    {
      "cell_type": "markdown",
      "metadata": {
        "id": "XD7LwhnNL0R8"
      },
      "source": [
        "# Dataset Splitting"
      ]
    },
    {
      "cell_type": "code",
      "metadata": {
        "id": "ieOo6hx0qc3m"
      },
      "source": [
        "def prepare_datasets(test_size, validation_size):\n",
        "\n",
        "    # load data\n",
        "    X, y = load_data(DATA_PATH)\n",
        "\n",
        "    # create train, validation and test split\n",
        "    X_train, X_test, y_train, y_test = train_test_split(X, y, test_size=test_size)\n",
        "    X_train, X_validation, y_train, y_validation = train_test_split(X_train, y_train, test_size=validation_size)\n",
        "\n",
        "    return X_train, X_validation, X_test, y_train, y_validation, y_test\n"
      ],
      "execution_count": 5,
      "outputs": []
    },
    {
      "cell_type": "markdown",
      "metadata": {
        "id": "vd16_uEFL5cU"
      },
      "source": [
        "# Building the RNN model"
      ]
    },
    {
      "cell_type": "code",
      "metadata": {
        "id": "56plqeyzqgt9"
      },
      "source": [
        "def build_model(input_shape):\n",
        "\n",
        "    # build network topology\n",
        "    model = keras.Sequential()\n",
        "\n",
        "    # 2 LSTM layers\n",
        "    model.add(keras.layers.LSTM(64, input_shape=input_shape, return_sequences=True))\n",
        "    model.add(keras.layers.LSTM(64))\n",
        "\n",
        "    # dense layer\n",
        "    model.add(keras.layers.Dense(64, activation='relu'))\n",
        "    model.add(keras.layers.Dropout(0.3))\n",
        "\n",
        "    # output layer\n",
        "    model.add(keras.layers.Dense(10, activation='softmax'))\n",
        "\n",
        "    return model"
      ],
      "execution_count": 6,
      "outputs": []
    },
    {
      "cell_type": "markdown",
      "metadata": {
        "id": "NfkU2F6aMEU9"
      },
      "source": [
        "# Running the Model\n",
        "- Preparing the dataset\n",
        "- Network creation\n",
        "- Summarizing the model"
      ]
    },
    {
      "cell_type": "code",
      "metadata": {
        "colab": {
          "base_uri": "https://localhost:8080/",
          "height": 1000
        },
        "id": "EuJQgNVPqksL",
        "outputId": "706ec734-ccb2-4379-9bab-1673b24a5374"
      },
      "source": [
        "if __name__ == \"__main__\":\n",
        "\n",
        "    # get train, validation, test splits\n",
        "    X_train, X_validation, X_test, y_train, y_validation, y_test = prepare_datasets(0.25, 0.2)\n",
        "\n",
        "    # create network\n",
        "    input_shape = (X_train.shape[1], X_train.shape[2]) # 130, 13\n",
        "    model = build_model(input_shape)\n",
        "\n",
        "    # compile model\n",
        "    optimiser = keras.optimizers.Adam(learning_rate=0.0001)\n",
        "    model.compile(optimizer=optimiser,\n",
        "                  loss='sparse_categorical_crossentropy',\n",
        "                  metrics=['accuracy'])\n",
        "\n",
        "    model.summary()\n",
        "\n",
        "    # train model\n",
        "    history = model.fit(X_train, y_train, validation_data=(X_validation, y_validation), batch_size=32, epochs=60)\n",
        "\n",
        "    # plot accuracy/error for training and validation\n",
        "    plot_history(history)\n",
        "\n",
        "    # evaluate model on test set\n",
        "    test_loss, test_acc = model.evaluate(X_test, y_test, verbose=2)\n",
        "    print('\\nTest accuracy:', test_acc)"
      ],
      "execution_count": 7,
      "outputs": [
        {
          "output_type": "stream",
          "name": "stdout",
          "text": [
            "Model: \"sequential\"\n",
            "_________________________________________________________________\n",
            " Layer (type)                Output Shape              Param #   \n",
            "=================================================================\n",
            " lstm (LSTM)                 (None, 44, 64)            19968     \n",
            "                                                                 \n",
            " lstm_1 (LSTM)               (None, 64)                33024     \n",
            "                                                                 \n",
            " dense (Dense)               (None, 64)                4160      \n",
            "                                                                 \n",
            " dropout (Dropout)           (None, 64)                0         \n",
            "                                                                 \n",
            " dense_1 (Dense)             (None, 10)                650       \n",
            "                                                                 \n",
            "=================================================================\n",
            "Total params: 57,802\n",
            "Trainable params: 57,802\n",
            "Non-trainable params: 0\n",
            "_________________________________________________________________\n",
            "Epoch 1/60\n",
            "562/562 [==============================] - 33s 53ms/step - loss: 1.9881 - accuracy: 0.2971 - val_loss: 1.6678 - val_accuracy: 0.4243\n",
            "Epoch 2/60\n",
            "562/562 [==============================] - 28s 50ms/step - loss: 1.6110 - accuracy: 0.4312 - val_loss: 1.4405 - val_accuracy: 0.4913\n",
            "Epoch 3/60\n",
            "562/562 [==============================] - 29s 51ms/step - loss: 1.4636 - accuracy: 0.4854 - val_loss: 1.3419 - val_accuracy: 0.5280\n",
            "Epoch 4/60\n",
            "562/562 [==============================] - 28s 51ms/step - loss: 1.3844 - accuracy: 0.5140 - val_loss: 1.2806 - val_accuracy: 0.5492\n",
            "Epoch 5/60\n",
            "562/562 [==============================] - 28s 51ms/step - loss: 1.3113 - accuracy: 0.5411 - val_loss: 1.2399 - val_accuracy: 0.5643\n",
            "Epoch 6/60\n",
            "562/562 [==============================] - 28s 50ms/step - loss: 1.2565 - accuracy: 0.5614 - val_loss: 1.2074 - val_accuracy: 0.5774\n",
            "Epoch 7/60\n",
            "562/562 [==============================] - 29s 51ms/step - loss: 1.2102 - accuracy: 0.5809 - val_loss: 1.1661 - val_accuracy: 0.5892\n",
            "Epoch 8/60\n",
            "562/562 [==============================] - 29s 52ms/step - loss: 1.1648 - accuracy: 0.5971 - val_loss: 1.1460 - val_accuracy: 0.5964\n",
            "Epoch 9/60\n",
            "562/562 [==============================] - 29s 51ms/step - loss: 1.1357 - accuracy: 0.6106 - val_loss: 1.1236 - val_accuracy: 0.6077\n",
            "Epoch 10/60\n",
            "562/562 [==============================] - 29s 51ms/step - loss: 1.1074 - accuracy: 0.6192 - val_loss: 1.0897 - val_accuracy: 0.6190\n",
            "Epoch 11/60\n",
            "562/562 [==============================] - 29s 51ms/step - loss: 1.0724 - accuracy: 0.6308 - val_loss: 1.0729 - val_accuracy: 0.6268\n",
            "Epoch 12/60\n",
            "562/562 [==============================] - 28s 49ms/step - loss: 1.0540 - accuracy: 0.6413 - val_loss: 1.0662 - val_accuracy: 0.6239\n",
            "Epoch 13/60\n",
            "562/562 [==============================] - 28s 50ms/step - loss: 1.0307 - accuracy: 0.6474 - val_loss: 1.0484 - val_accuracy: 0.6395\n",
            "Epoch 14/60\n",
            "562/562 [==============================] - 28s 50ms/step - loss: 1.0054 - accuracy: 0.6576 - val_loss: 1.0464 - val_accuracy: 0.6344\n",
            "Epoch 15/60\n",
            "562/562 [==============================] - 28s 50ms/step - loss: 0.9813 - accuracy: 0.6665 - val_loss: 1.0229 - val_accuracy: 0.6409\n",
            "Epoch 16/60\n",
            "562/562 [==============================] - 28s 50ms/step - loss: 0.9611 - accuracy: 0.6728 - val_loss: 1.0152 - val_accuracy: 0.6431\n",
            "Epoch 17/60\n",
            "562/562 [==============================] - 28s 50ms/step - loss: 0.9386 - accuracy: 0.6796 - val_loss: 1.0265 - val_accuracy: 0.6402\n",
            "Epoch 18/60\n",
            "562/562 [==============================] - 29s 51ms/step - loss: 0.9267 - accuracy: 0.6845 - val_loss: 1.0129 - val_accuracy: 0.6460\n",
            "Epoch 19/60\n",
            "562/562 [==============================] - 28s 50ms/step - loss: 0.9044 - accuracy: 0.6901 - val_loss: 0.9874 - val_accuracy: 0.6569\n",
            "Epoch 20/60\n",
            "562/562 [==============================] - 28s 51ms/step - loss: 0.8908 - accuracy: 0.7005 - val_loss: 0.9858 - val_accuracy: 0.6524\n",
            "Epoch 21/60\n",
            "562/562 [==============================] - 28s 50ms/step - loss: 0.8756 - accuracy: 0.7012 - val_loss: 1.0022 - val_accuracy: 0.6544\n",
            "Epoch 22/60\n",
            "562/562 [==============================] - 28s 50ms/step - loss: 0.8643 - accuracy: 0.7064 - val_loss: 0.9825 - val_accuracy: 0.6629\n",
            "Epoch 23/60\n",
            "562/562 [==============================] - 28s 50ms/step - loss: 0.8412 - accuracy: 0.7142 - val_loss: 0.9737 - val_accuracy: 0.6564\n",
            "Epoch 24/60\n",
            "562/562 [==============================] - 28s 50ms/step - loss: 0.8304 - accuracy: 0.7208 - val_loss: 0.9653 - val_accuracy: 0.6629\n",
            "Epoch 25/60\n",
            "562/562 [==============================] - 28s 51ms/step - loss: 0.8118 - accuracy: 0.7261 - val_loss: 0.9636 - val_accuracy: 0.6676\n",
            "Epoch 26/60\n",
            "562/562 [==============================] - 28s 50ms/step - loss: 0.7989 - accuracy: 0.7305 - val_loss: 0.9478 - val_accuracy: 0.6738\n",
            "Epoch 27/60\n",
            "562/562 [==============================] - 28s 50ms/step - loss: 0.7817 - accuracy: 0.7375 - val_loss: 0.9500 - val_accuracy: 0.6718\n",
            "Epoch 28/60\n",
            "562/562 [==============================] - 28s 50ms/step - loss: 0.7718 - accuracy: 0.7375 - val_loss: 0.9425 - val_accuracy: 0.6753\n",
            "Epoch 29/60\n",
            "562/562 [==============================] - 28s 50ms/step - loss: 0.7633 - accuracy: 0.7420 - val_loss: 0.9493 - val_accuracy: 0.6751\n",
            "Epoch 30/60\n",
            "562/562 [==============================] - 28s 50ms/step - loss: 0.7499 - accuracy: 0.7452 - val_loss: 0.9334 - val_accuracy: 0.6809\n",
            "Epoch 31/60\n",
            "562/562 [==============================] - 28s 50ms/step - loss: 0.7375 - accuracy: 0.7524 - val_loss: 0.9510 - val_accuracy: 0.6782\n",
            "Epoch 32/60\n",
            "562/562 [==============================] - 28s 50ms/step - loss: 0.7333 - accuracy: 0.7520 - val_loss: 0.9532 - val_accuracy: 0.6751\n",
            "Epoch 33/60\n",
            "562/562 [==============================] - 28s 50ms/step - loss: 0.7193 - accuracy: 0.7570 - val_loss: 0.9364 - val_accuracy: 0.6836\n",
            "Epoch 34/60\n",
            "562/562 [==============================] - 29s 51ms/step - loss: 0.7010 - accuracy: 0.7627 - val_loss: 0.9310 - val_accuracy: 0.6845\n",
            "Epoch 35/60\n",
            "562/562 [==============================] - 29s 51ms/step - loss: 0.6993 - accuracy: 0.7634 - val_loss: 0.9391 - val_accuracy: 0.6862\n",
            "Epoch 36/60\n",
            "562/562 [==============================] - 29s 51ms/step - loss: 0.6890 - accuracy: 0.7700 - val_loss: 0.9427 - val_accuracy: 0.6840\n",
            "Epoch 37/60\n",
            "562/562 [==============================] - 29s 51ms/step - loss: 0.6770 - accuracy: 0.7702 - val_loss: 0.9510 - val_accuracy: 0.6874\n",
            "Epoch 38/60\n",
            "562/562 [==============================] - 29s 52ms/step - loss: 0.6669 - accuracy: 0.7769 - val_loss: 0.9508 - val_accuracy: 0.6880\n",
            "Epoch 39/60\n",
            "562/562 [==============================] - 29s 51ms/step - loss: 0.6656 - accuracy: 0.7748 - val_loss: 0.9332 - val_accuracy: 0.6945\n",
            "Epoch 40/60\n",
            "562/562 [==============================] - 29s 51ms/step - loss: 0.6501 - accuracy: 0.7828 - val_loss: 0.9332 - val_accuracy: 0.6923\n",
            "Epoch 41/60\n",
            "562/562 [==============================] - 29s 51ms/step - loss: 0.6379 - accuracy: 0.7864 - val_loss: 0.9451 - val_accuracy: 0.6940\n",
            "Epoch 42/60\n",
            "562/562 [==============================] - 29s 51ms/step - loss: 0.6314 - accuracy: 0.7889 - val_loss: 0.9319 - val_accuracy: 0.6980\n",
            "Epoch 43/60\n",
            "562/562 [==============================] - 28s 51ms/step - loss: 0.6259 - accuracy: 0.7902 - val_loss: 0.9363 - val_accuracy: 0.7000\n",
            "Epoch 44/60\n",
            "562/562 [==============================] - 29s 51ms/step - loss: 0.6162 - accuracy: 0.7952 - val_loss: 0.9487 - val_accuracy: 0.6960\n",
            "Epoch 45/60\n",
            "562/562 [==============================] - 29s 51ms/step - loss: 0.6084 - accuracy: 0.7949 - val_loss: 0.9364 - val_accuracy: 0.7036\n",
            "Epoch 46/60\n",
            "562/562 [==============================] - 29s 52ms/step - loss: 0.6040 - accuracy: 0.7987 - val_loss: 0.9375 - val_accuracy: 0.6994\n",
            "Epoch 47/60\n",
            "562/562 [==============================] - 29s 51ms/step - loss: 0.5923 - accuracy: 0.8030 - val_loss: 0.9647 - val_accuracy: 0.6929\n",
            "Epoch 48/60\n",
            "562/562 [==============================] - 29s 51ms/step - loss: 0.5864 - accuracy: 0.8016 - val_loss: 0.9665 - val_accuracy: 0.6958\n",
            "Epoch 49/60\n",
            "562/562 [==============================] - 28s 50ms/step - loss: 0.5821 - accuracy: 0.8061 - val_loss: 0.9657 - val_accuracy: 0.6969\n",
            "Epoch 50/60\n",
            "562/562 [==============================] - 29s 52ms/step - loss: 0.5712 - accuracy: 0.8096 - val_loss: 0.9448 - val_accuracy: 0.7034\n",
            "Epoch 51/60\n",
            "562/562 [==============================] - 29s 52ms/step - loss: 0.5679 - accuracy: 0.8121 - val_loss: 0.9559 - val_accuracy: 0.6989\n",
            "Epoch 52/60\n",
            "562/562 [==============================] - 29s 52ms/step - loss: 0.5587 - accuracy: 0.8163 - val_loss: 0.9708 - val_accuracy: 0.7003\n",
            "Epoch 53/60\n",
            "562/562 [==============================] - 29s 51ms/step - loss: 0.5506 - accuracy: 0.8178 - val_loss: 0.9573 - val_accuracy: 0.7003\n",
            "Epoch 54/60\n",
            "562/562 [==============================] - 29s 52ms/step - loss: 0.5394 - accuracy: 0.8213 - val_loss: 0.9700 - val_accuracy: 0.7040\n",
            "Epoch 55/60\n",
            "562/562 [==============================] - 29s 51ms/step - loss: 0.5425 - accuracy: 0.8214 - val_loss: 0.9751 - val_accuracy: 0.7049\n",
            "Epoch 56/60\n",
            "562/562 [==============================] - 29s 52ms/step - loss: 0.5333 - accuracy: 0.8209 - val_loss: 0.9626 - val_accuracy: 0.7014\n",
            "Epoch 57/60\n",
            "562/562 [==============================] - 29s 51ms/step - loss: 0.5269 - accuracy: 0.8260 - val_loss: 0.9844 - val_accuracy: 0.6996\n",
            "Epoch 58/60\n",
            "562/562 [==============================] - 29s 52ms/step - loss: 0.5192 - accuracy: 0.8278 - val_loss: 0.9826 - val_accuracy: 0.6994\n",
            "Epoch 59/60\n",
            "562/562 [==============================] - 29s 51ms/step - loss: 0.5159 - accuracy: 0.8309 - val_loss: 0.9762 - val_accuracy: 0.7096\n",
            "Epoch 60/60\n",
            "562/562 [==============================] - 29s 51ms/step - loss: 0.5049 - accuracy: 0.8322 - val_loss: 0.9881 - val_accuracy: 0.7036\n"
          ]
        },
        {
          "output_type": "display_data",
          "data": {
            "image/png": "[encoded data removed]",
            "text/plain": [
              "<Figure size 432x288 with 2 Axes>"
            ]
          },
          "metadata": {
            "needs_background": "light"
          }
        },
        {
          "output_type": "stream",
          "name": "stdout",
          "text": [
            "235/235 - 3s - loss: 0.9835 - accuracy: 0.6976 - 3s/epoch - 13ms/step\n",
            "\n",
            "Test accuracy: 0.697637140750885\n"
          ]
        }
      ]
    },
    {
      "cell_type": "markdown",
      "metadata": {
        "id": "v_ke4NAJWdEG"
      },
      "source": [
        "Just Printing the Test Accuracy for clarity!"
      ]
    },
    {
      "cell_type": "code",
      "metadata": {
        "colab": {
          "base_uri": "https://localhost:8080/"
        },
        "id": "5QCiq3MuVyqN",
        "outputId": "5cef3cd0-b1ec-4793-b1fb-f527948710bb"
      },
      "source": [
        "  # evaluate model on test set\n",
        "  test_loss, test_acc = model.evaluate(X_test, y_test, verbose=2)\n",
        "  print('\\nTest accuracy:', test_acc)"
      ],
      "execution_count": 8,
      "outputs": [
        {
          "output_type": "stream",
          "name": "stdout",
          "text": [
            "235/235 - 3s - loss: 0.9835 - accuracy: 0.6976 - 3s/epoch - 13ms/step\n",
            "\n",
            "Test accuracy: 0.697637140750885\n"
          ]
        }
      ]
    }
  ]
}