{
  "nbformat": 4,
  "nbformat_minor": 0,
  "metadata": {
    "kernelspec": {
      "display_name": "Python 3",
      "language": "python",
      "name": "python3"
    },
    "language_info": {
      "codemirror_mode": {
        "name": "ipython",
        "version": 3
      },
      "file_extension": ".py",
      "mimetype": "text/x-python",
      "name": "python",
      "nbconvert_exporter": "python",
      "pygments_lexer": "ipython3",
      "version": "3.7.6"
    },
    "colab": {
      "name": "ANN.ipynb",
      "provenance": [],
      "collapsed_sections": []
    }
  },
  "cells": [
    {
      "cell_type": "markdown",
      "metadata": {
        "id": "7PYOsqXINj76"
      },
      "source": [
        "# Mounting the drive"
      ]
    },
    {
      "cell_type": "code",
      "metadata": {
        "colab": {
          "base_uri": "https://localhost:8080/"
        },
        "id": "6S2xLt0V39fQ",
        "outputId": "e154289e-f698-4feb-ff4e-108dc9bdc949"
      },
      "source": [
        "from google.colab import drive\n",
        "drive.mount(\"/content/gdrive\")"
      ],
      "execution_count": 1,
      "outputs": [
        {
          "output_type": "stream",
          "name": "stdout",
          "text": [
            "Mounted at /content/gdrive\n"
          ]
        }
      ]
    },
    {
      "cell_type": "markdown",
      "metadata": {
        "id": "O1mUeb17NqOg"
      },
      "source": [
        "# Importing libraries & JSON\n",
        "- Importing MFCC JSON file\n",
        "- Splitting the dataset"
      ]
    },
    {
      "cell_type": "code",
      "metadata": {
        "id": "BXWzRYpUQCJA"
      },
      "source": [
        "import json\n",
        "import numpy as np\n",
        "from sklearn.model_selection import train_test_split\n",
        "\n",
        "from tensorflow.keras.models import Sequential\n",
        "from tensorflow.keras.layers import Dense, Dropout, Flatten,BatchNormalization\n",
        "\n",
        "with open('/content/gdrive/MyDrive/ME_781_Adi/gtzan_mfcc.json', \"r\") as file:\n",
        "    data = json.load(file) #Load MFCC dataset from JSON file\n",
        "\n",
        "X = np.array(data[\"mfcc\"]) #Load MFCCs \n",
        "y = np.array(data[\"labels\"]) #Load corresponding genre names\n",
        "\n",
        "X_train, X_test, y_train, y_test = train_test_split(X, y, test_size=0.1,random_state=0) #Splitting data into random training and test sets"
      ],
      "execution_count": 4,
      "outputs": []
    },
    {
      "cell_type": "code",
      "metadata": {
        "id": "Nv0T_HZkQCJC"
      },
      "source": [
        "X_train = X_train[..., np.newaxis] #Increase dimension of array by one\n",
        "X_test = X_test[..., np.newaxis] #Increase dimension of array by one"
      ],
      "execution_count": 5,
      "outputs": []
    },
    {
      "cell_type": "markdown",
      "metadata": {
        "id": "sJILoXoEOCA9"
      },
      "source": [
        "# Model Creation\n",
        "- Sequential model\n",
        "- Normalization of inputs (Batch normalization)\n",
        "- Dropouts (reduce overfitting)\n",
        "- Activation Function"
      ]
    },
    {
      "cell_type": "code",
      "metadata": {
        "id": "MzUsa5oDQCJD"
      },
      "source": [
        "from keras.callbacks import ReduceLROnPlateau\n",
        "rlrop = ReduceLROnPlateau(monitor='val_accuracy', factor=0.05, patience=7) #Reduce learning rate when a metric has stopped improving\n",
        "\n",
        "model = Sequential() #Initializing a sequential model\n",
        "\n",
        "model.add(Flatten(input_shape=(X_train.shape[1],X_train.shape[2],1))) #Flattens the input vector\n",
        "\n",
        "model.add(Dense(512, activation = \"relu\", kernel_initializer='he_uniform')) #Add a densely connected layer to the neural network\n",
        "model.add(Dense(512, activation = \"relu\", kernel_initializer='he_uniform')) #Add a densely connected layer to the neural network\n",
        "model.add(BatchNormalization()) #Add a layer to normalize the inputs\n",
        "model.add(Dropout(0.1)) #Add dropout to inputs to avoid overfitting \n",
        "\n",
        "model.add(Dense(256, activation = \"relu\", kernel_initializer='he_uniform')) #Add a densely connected layer to the neural network\n",
        "model.add(Dense(256, activation = \"relu\", kernel_initializer='he_uniform')) #Add a densely connected layer to the neural network\n",
        "model.add(BatchNormalization()) #Add a layer to normalize the inputs\n",
        "\n",
        "model.add(Dropout(0.1)) #Add dropout to inputs to avoid overfitting \n",
        "model.add(Dense(128, activation = \"relu\", kernel_initializer='he_uniform')) #Add a densely connected layer to the neural network\n",
        "model.add(Dense(128, activation = \"relu\", kernel_initializer='he_uniform')) #Add a densely connected layer to the neural network\n",
        "model.add(BatchNormalization()) #Add a layer to normalize the inputs\n",
        "\n",
        "model.add(Dropout(0.1)) #Add dropout to inputs to avoid overfitting \n",
        "model.add(Dense(64, activation = \"relu\", kernel_initializer='he_uniform')) #Add a densely connected layer to the neural network\n",
        "model.add(Dense(64, activation = \"relu\", kernel_initializer='he_uniform')) #Add a densely connected layer to the neural network\n",
        "model.add(BatchNormalization()) #Add a layer to normalize the inputs\n",
        "\n",
        "model.add(Dropout(0.1)) #Add dropout to inputs to avoid overfitting \n",
        "model.add(Dense(10, activation = \"softmax\")) #Add a densely connected output layer to the neural network"
      ],
      "execution_count": 6,
      "outputs": []
    },
    {
      "cell_type": "markdown",
      "metadata": {
        "id": "Gh3uw6dfOWM1"
      },
      "source": [
        "Compiling the model"
      ]
    },
    {
      "cell_type": "code",
      "metadata": {
        "id": "Mn9UO5wAQCJE"
      },
      "source": [
        "model.compile(optimizer='adam',loss='sparse_categorical_crossentropy',metrics=['accuracy']) #Configures the model for training\n"
      ],
      "execution_count": 7,
      "outputs": []
    },
    {
      "cell_type": "markdown",
      "metadata": {
        "id": "nuOyp7hDOYub"
      },
      "source": [
        "## Model Summary"
      ]
    },
    {
      "cell_type": "code",
      "metadata": {
        "id": "PZb6pvLuQCJF",
        "colab": {
          "base_uri": "https://localhost:8080/"
        },
        "outputId": "1ac9c882-31b2-48d9-e4a8-086fc1d26e1a"
      },
      "source": [
        "model.summary() #Prints a string summary of the network\n"
      ],
      "execution_count": 8,
      "outputs": [
        {
          "output_type": "stream",
          "name": "stdout",
          "text": [
            "Model: \"sequential\"\n",
            "_________________________________________________________________\n",
            " Layer (type)                Output Shape              Param #   \n",
            "=================================================================\n",
            " flatten (Flatten)           (None, 1690)              0         \n",
            "                                                                 \n",
            " dense (Dense)               (None, 512)               865792    \n",
            "                                                                 \n",
            " dense_1 (Dense)             (None, 512)               262656    \n",
            "                                                                 \n",
            " batch_normalization (BatchN  (None, 512)              2048      \n",
            " ormalization)                                                   \n",
            "                                                                 \n",
            " dropout (Dropout)           (None, 512)               0         \n",
            "                                                                 \n",
            " dense_2 (Dense)             (None, 256)               131328    \n",
            "                                                                 \n",
            " dense_3 (Dense)             (None, 256)               65792     \n",
            "                                                                 \n",
            " batch_normalization_1 (Batc  (None, 256)              1024      \n",
            " hNormalization)                                                 \n",
            "                                                                 \n",
            " dropout_1 (Dropout)         (None, 256)               0         \n",
            "                                                                 \n",
            " dense_4 (Dense)             (None, 128)               32896     \n",
            "                                                                 \n",
            " dense_5 (Dense)             (None, 128)               16512     \n",
            "                                                                 \n",
            " batch_normalization_2 (Batc  (None, 128)              512       \n",
            " hNormalization)                                                 \n",
            "                                                                 \n",
            " dropout_2 (Dropout)         (None, 128)               0         \n",
            "                                                                 \n",
            " dense_6 (Dense)             (None, 64)                8256      \n",
            "                                                                 \n",
            " dense_7 (Dense)             (None, 64)                4160      \n",
            "                                                                 \n",
            " batch_normalization_3 (Batc  (None, 64)               256       \n",
            " hNormalization)                                                 \n",
            "                                                                 \n",
            " dropout_3 (Dropout)         (None, 64)                0         \n",
            "                                                                 \n",
            " dense_8 (Dense)             (None, 10)                650       \n",
            "                                                                 \n",
            "=================================================================\n",
            "Total params: 1,391,882\n",
            "Trainable params: 1,389,962\n",
            "Non-trainable params: 1,920\n",
            "_________________________________________________________________\n"
          ]
        }
      ]
    },
    {
      "cell_type": "markdown",
      "metadata": {
        "id": "Fi9xh165OdD0"
      },
      "source": [
        "## Model history \n",
        "Running Epochs"
      ]
    },
    {
      "cell_type": "code",
      "metadata": {
        "scrolled": false,
        "id": "QZjjUDd1QCJG",
        "colab": {
          "base_uri": "https://localhost:8080/"
        },
        "outputId": "40af72a5-7519-47cc-a773-ef6fd1088199"
      },
      "source": [
        "history = model.fit(X_train,\n",
        "                    y_train,\n",
        "                    validation_data=(X_test, y_test),\n",
        "                    batch_size=32,\n",
        "                    epochs=75,\n",
        "                    callbacks=[rlrop],\n",
        "                    verbose=2) #Trains the model for a fixed number of epochs"
      ],
      "execution_count": 9,
      "outputs": [
        {
          "output_type": "stream",
          "name": "stdout",
          "text": [
            "Epoch 1/75\n",
            "282/282 - 8s - loss: 1.8963 - accuracy: 0.3414 - val_loss: 1.8678 - val_accuracy: 0.3450 - lr: 0.0010 - 8s/epoch - 30ms/step\n",
            "Epoch 2/75\n",
            "282/282 - 6s - loss: 1.5901 - accuracy: 0.4291 - val_loss: 1.7499 - val_accuracy: 0.3740 - lr: 0.0010 - 6s/epoch - 22ms/step\n",
            "Epoch 3/75\n",
            "282/282 - 6s - loss: 1.4437 - accuracy: 0.4809 - val_loss: 1.4996 - val_accuracy: 0.4920 - lr: 0.0010 - 6s/epoch - 22ms/step\n",
            "Epoch 4/75\n",
            "282/282 - 6s - loss: 1.3777 - accuracy: 0.5083 - val_loss: 1.3020 - val_accuracy: 0.5300 - lr: 0.0010 - 6s/epoch - 21ms/step\n",
            "Epoch 5/75\n",
            "282/282 - 6s - loss: 1.3308 - accuracy: 0.5173 - val_loss: 1.3955 - val_accuracy: 0.5190 - lr: 0.0010 - 6s/epoch - 22ms/step\n",
            "Epoch 6/75\n",
            "282/282 - 6s - loss: 1.3115 - accuracy: 0.5277 - val_loss: 1.3395 - val_accuracy: 0.5260 - lr: 0.0010 - 6s/epoch - 22ms/step\n",
            "Epoch 7/75\n",
            "282/282 - 6s - loss: 1.2799 - accuracy: 0.5379 - val_loss: 1.6858 - val_accuracy: 0.4560 - lr: 0.0010 - 6s/epoch - 20ms/step\n",
            "Epoch 8/75\n",
            "282/282 - 6s - loss: 1.2402 - accuracy: 0.5551 - val_loss: 1.1515 - val_accuracy: 0.5890 - lr: 0.0010 - 6s/epoch - 21ms/step\n",
            "Epoch 9/75\n",
            "282/282 - 6s - loss: 1.1807 - accuracy: 0.5763 - val_loss: 1.4720 - val_accuracy: 0.4940 - lr: 0.0010 - 6s/epoch - 21ms/step\n",
            "Epoch 10/75\n",
            "282/282 - 6s - loss: 1.1846 - accuracy: 0.5708 - val_loss: 1.4972 - val_accuracy: 0.4940 - lr: 0.0010 - 6s/epoch - 21ms/step\n",
            "Epoch 11/75\n",
            "282/282 - 6s - loss: 1.1684 - accuracy: 0.5825 - val_loss: 1.2597 - val_accuracy: 0.5550 - lr: 0.0010 - 6s/epoch - 21ms/step\n",
            "Epoch 12/75\n",
            "282/282 - 6s - loss: 1.1244 - accuracy: 0.5997 - val_loss: 1.1670 - val_accuracy: 0.5840 - lr: 0.0010 - 6s/epoch - 21ms/step\n",
            "Epoch 13/75\n",
            "282/282 - 6s - loss: 1.1172 - accuracy: 0.6029 - val_loss: 1.2412 - val_accuracy: 0.5580 - lr: 0.0010 - 6s/epoch - 21ms/step\n",
            "Epoch 14/75\n",
            "282/282 - 6s - loss: 1.0674 - accuracy: 0.6214 - val_loss: 1.2739 - val_accuracy: 0.5620 - lr: 0.0010 - 6s/epoch - 20ms/step\n",
            "Epoch 15/75\n",
            "282/282 - 6s - loss: 1.0640 - accuracy: 0.6259 - val_loss: 1.6471 - val_accuracy: 0.4660 - lr: 0.0010 - 6s/epoch - 21ms/step\n",
            "Epoch 16/75\n",
            "282/282 - 6s - loss: 0.9942 - accuracy: 0.6481 - val_loss: 0.9104 - val_accuracy: 0.6870 - lr: 5.0000e-05 - 6s/epoch - 21ms/step\n",
            "Epoch 17/75\n",
            "282/282 - 6s - loss: 0.9215 - accuracy: 0.6736 - val_loss: 0.8937 - val_accuracy: 0.6900 - lr: 5.0000e-05 - 6s/epoch - 20ms/step\n",
            "Epoch 18/75\n",
            "282/282 - 6s - loss: 0.9090 - accuracy: 0.6869 - val_loss: 0.8814 - val_accuracy: 0.6950 - lr: 5.0000e-05 - 6s/epoch - 20ms/step\n",
            "Epoch 19/75\n",
            "282/282 - 6s - loss: 0.8967 - accuracy: 0.6810 - val_loss: 0.8762 - val_accuracy: 0.6920 - lr: 5.0000e-05 - 6s/epoch - 20ms/step\n",
            "Epoch 20/75\n",
            "282/282 - 6s - loss: 0.8918 - accuracy: 0.6888 - val_loss: 0.8833 - val_accuracy: 0.7010 - lr: 5.0000e-05 - 6s/epoch - 20ms/step\n",
            "Epoch 21/75\n",
            "282/282 - 6s - loss: 0.8828 - accuracy: 0.6904 - val_loss: 0.8781 - val_accuracy: 0.6940 - lr: 5.0000e-05 - 6s/epoch - 20ms/step\n",
            "Epoch 22/75\n",
            "282/282 - 6s - loss: 0.8690 - accuracy: 0.6931 - val_loss: 0.8776 - val_accuracy: 0.7000 - lr: 5.0000e-05 - 6s/epoch - 20ms/step\n",
            "Epoch 23/75\n",
            "282/282 - 6s - loss: 0.8433 - accuracy: 0.7004 - val_loss: 0.8745 - val_accuracy: 0.6930 - lr: 5.0000e-05 - 6s/epoch - 21ms/step\n",
            "Epoch 24/75\n",
            "282/282 - 6s - loss: 0.8545 - accuracy: 0.6996 - val_loss: 0.8552 - val_accuracy: 0.7020 - lr: 5.0000e-05 - 6s/epoch - 20ms/step\n",
            "Epoch 25/75\n",
            "282/282 - 6s - loss: 0.8695 - accuracy: 0.6925 - val_loss: 0.8632 - val_accuracy: 0.7030 - lr: 5.0000e-05 - 6s/epoch - 21ms/step\n",
            "Epoch 26/75\n",
            "282/282 - 6s - loss: 0.8507 - accuracy: 0.7016 - val_loss: 0.8588 - val_accuracy: 0.7090 - lr: 5.0000e-05 - 6s/epoch - 22ms/step\n",
            "Epoch 27/75\n",
            "282/282 - 6s - loss: 0.8294 - accuracy: 0.7082 - val_loss: 0.8525 - val_accuracy: 0.7090 - lr: 5.0000e-05 - 6s/epoch - 20ms/step\n",
            "Epoch 28/75\n",
            "282/282 - 6s - loss: 0.8315 - accuracy: 0.7080 - val_loss: 0.8543 - val_accuracy: 0.7130 - lr: 5.0000e-05 - 6s/epoch - 21ms/step\n",
            "Epoch 29/75\n",
            "282/282 - 6s - loss: 0.8323 - accuracy: 0.7095 - val_loss: 0.8424 - val_accuracy: 0.7060 - lr: 5.0000e-05 - 6s/epoch - 20ms/step\n",
            "Epoch 30/75\n",
            "282/282 - 6s - loss: 0.8128 - accuracy: 0.7179 - val_loss: 0.8359 - val_accuracy: 0.7160 - lr: 5.0000e-05 - 6s/epoch - 22ms/step\n",
            "Epoch 31/75\n",
            "282/282 - 6s - loss: 0.8205 - accuracy: 0.7128 - val_loss: 0.8385 - val_accuracy: 0.7170 - lr: 5.0000e-05 - 6s/epoch - 21ms/step\n",
            "Epoch 32/75\n",
            "282/282 - 6s - loss: 0.8054 - accuracy: 0.7175 - val_loss: 0.8366 - val_accuracy: 0.7090 - lr: 5.0000e-05 - 6s/epoch - 20ms/step\n",
            "Epoch 33/75\n",
            "282/282 - 5s - loss: 0.7965 - accuracy: 0.7180 - val_loss: 0.8266 - val_accuracy: 0.7170 - lr: 5.0000e-05 - 5s/epoch - 19ms/step\n",
            "Epoch 34/75\n",
            "282/282 - 6s - loss: 0.7969 - accuracy: 0.7188 - val_loss: 0.8198 - val_accuracy: 0.7180 - lr: 5.0000e-05 - 6s/epoch - 20ms/step\n",
            "Epoch 35/75\n",
            "282/282 - 6s - loss: 0.7844 - accuracy: 0.7240 - val_loss: 0.8395 - val_accuracy: 0.7090 - lr: 5.0000e-05 - 6s/epoch - 22ms/step\n",
            "Epoch 36/75\n",
            "282/282 - 6s - loss: 0.7758 - accuracy: 0.7292 - val_loss: 0.8178 - val_accuracy: 0.7160 - lr: 5.0000e-05 - 6s/epoch - 23ms/step\n",
            "Epoch 37/75\n",
            "282/282 - 6s - loss: 0.7718 - accuracy: 0.7309 - val_loss: 0.8155 - val_accuracy: 0.7080 - lr: 5.0000e-05 - 6s/epoch - 22ms/step\n",
            "Epoch 38/75\n",
            "282/282 - 6s - loss: 0.7692 - accuracy: 0.7311 - val_loss: 0.8219 - val_accuracy: 0.7070 - lr: 5.0000e-05 - 6s/epoch - 21ms/step\n",
            "Epoch 39/75\n",
            "282/282 - 6s - loss: 0.7597 - accuracy: 0.7324 - val_loss: 0.8164 - val_accuracy: 0.7160 - lr: 5.0000e-05 - 6s/epoch - 20ms/step\n",
            "Epoch 40/75\n",
            "282/282 - 6s - loss: 0.7601 - accuracy: 0.7340 - val_loss: 0.8147 - val_accuracy: 0.7140 - lr: 5.0000e-05 - 6s/epoch - 20ms/step\n",
            "Epoch 41/75\n",
            "282/282 - 5s - loss: 0.7413 - accuracy: 0.7417 - val_loss: 0.8133 - val_accuracy: 0.7130 - lr: 5.0000e-05 - 5s/epoch - 19ms/step\n",
            "Epoch 42/75\n",
            "282/282 - 6s - loss: 0.7422 - accuracy: 0.7398 - val_loss: 0.8107 - val_accuracy: 0.7180 - lr: 2.5000e-06 - 6s/epoch - 20ms/step\n",
            "Epoch 43/75\n",
            "282/282 - 5s - loss: 0.7557 - accuracy: 0.7381 - val_loss: 0.8110 - val_accuracy: 0.7180 - lr: 2.5000e-06 - 5s/epoch - 19ms/step\n",
            "Epoch 44/75\n",
            "282/282 - 6s - loss: 0.7447 - accuracy: 0.7428 - val_loss: 0.8093 - val_accuracy: 0.7160 - lr: 2.5000e-06 - 6s/epoch - 20ms/step\n",
            "Epoch 45/75\n",
            "282/282 - 6s - loss: 0.7441 - accuracy: 0.7397 - val_loss: 0.8085 - val_accuracy: 0.7190 - lr: 2.5000e-06 - 6s/epoch - 20ms/step\n",
            "Epoch 46/75\n",
            "282/282 - 5s - loss: 0.7375 - accuracy: 0.7444 - val_loss: 0.8089 - val_accuracy: 0.7140 - lr: 2.5000e-06 - 5s/epoch - 19ms/step\n",
            "Epoch 47/75\n",
            "282/282 - 5s - loss: 0.7246 - accuracy: 0.7453 - val_loss: 0.8087 - val_accuracy: 0.7090 - lr: 2.5000e-06 - 5s/epoch - 19ms/step\n",
            "Epoch 48/75\n",
            "282/282 - 5s - loss: 0.7370 - accuracy: 0.7438 - val_loss: 0.8068 - val_accuracy: 0.7170 - lr: 2.5000e-06 - 5s/epoch - 19ms/step\n",
            "Epoch 49/75\n",
            "282/282 - 7s - loss: 0.7278 - accuracy: 0.7503 - val_loss: 0.8057 - val_accuracy: 0.7150 - lr: 2.5000e-06 - 7s/epoch - 23ms/step\n",
            "Epoch 50/75\n",
            "282/282 - 6s - loss: 0.7304 - accuracy: 0.7448 - val_loss: 0.8066 - val_accuracy: 0.7160 - lr: 2.5000e-06 - 6s/epoch - 21ms/step\n",
            "Epoch 51/75\n",
            "282/282 - 6s - loss: 0.7314 - accuracy: 0.7476 - val_loss: 0.8068 - val_accuracy: 0.7180 - lr: 2.5000e-06 - 6s/epoch - 21ms/step\n",
            "Epoch 52/75\n",
            "282/282 - 6s - loss: 0.7340 - accuracy: 0.7394 - val_loss: 0.8086 - val_accuracy: 0.7140 - lr: 2.5000e-06 - 6s/epoch - 20ms/step\n",
            "Epoch 53/75\n",
            "282/282 - 6s - loss: 0.7405 - accuracy: 0.7408 - val_loss: 0.8053 - val_accuracy: 0.7180 - lr: 1.2500e-07 - 6s/epoch - 20ms/step\n",
            "Epoch 54/75\n",
            "282/282 - 6s - loss: 0.7365 - accuracy: 0.7397 - val_loss: 0.8054 - val_accuracy: 0.7180 - lr: 1.2500e-07 - 6s/epoch - 20ms/step\n",
            "Epoch 55/75\n",
            "282/282 - 6s - loss: 0.7456 - accuracy: 0.7359 - val_loss: 0.8060 - val_accuracy: 0.7190 - lr: 1.2500e-07 - 6s/epoch - 20ms/step\n",
            "Epoch 56/75\n",
            "282/282 - 6s - loss: 0.7389 - accuracy: 0.7393 - val_loss: 0.8077 - val_accuracy: 0.7180 - lr: 1.2500e-07 - 6s/epoch - 20ms/step\n",
            "Epoch 57/75\n",
            "282/282 - 6s - loss: 0.7394 - accuracy: 0.7401 - val_loss: 0.8073 - val_accuracy: 0.7130 - lr: 1.2500e-07 - 6s/epoch - 21ms/step\n",
            "Epoch 58/75\n",
            "282/282 - 6s - loss: 0.7301 - accuracy: 0.7402 - val_loss: 0.8053 - val_accuracy: 0.7150 - lr: 1.2500e-07 - 6s/epoch - 21ms/step\n",
            "Epoch 59/75\n",
            "282/282 - 6s - loss: 0.7501 - accuracy: 0.7420 - val_loss: 0.8060 - val_accuracy: 0.7160 - lr: 1.2500e-07 - 6s/epoch - 21ms/step\n",
            "Epoch 60/75\n",
            "282/282 - 6s - loss: 0.7441 - accuracy: 0.7360 - val_loss: 0.8069 - val_accuracy: 0.7150 - lr: 6.2500e-09 - 6s/epoch - 21ms/step\n",
            "Epoch 61/75\n",
            "282/282 - 6s - loss: 0.7379 - accuracy: 0.7393 - val_loss: 0.8076 - val_accuracy: 0.7160 - lr: 6.2500e-09 - 6s/epoch - 20ms/step\n",
            "Epoch 62/75\n",
            "282/282 - 5s - loss: 0.7388 - accuracy: 0.7399 - val_loss: 0.8102 - val_accuracy: 0.7180 - lr: 6.2500e-09 - 5s/epoch - 19ms/step\n",
            "Epoch 63/75\n",
            "282/282 - 5s - loss: 0.7318 - accuracy: 0.7462 - val_loss: 0.8088 - val_accuracy: 0.7190 - lr: 6.2500e-09 - 5s/epoch - 19ms/step\n",
            "Epoch 64/75\n",
            "282/282 - 6s - loss: 0.7407 - accuracy: 0.7406 - val_loss: 0.8063 - val_accuracy: 0.7170 - lr: 6.2500e-09 - 6s/epoch - 20ms/step\n",
            "Epoch 65/75\n",
            "282/282 - 6s - loss: 0.7362 - accuracy: 0.7414 - val_loss: 0.8069 - val_accuracy: 0.7150 - lr: 6.2500e-09 - 6s/epoch - 20ms/step\n",
            "Epoch 66/75\n",
            "282/282 - 5s - loss: 0.7293 - accuracy: 0.7481 - val_loss: 0.8059 - val_accuracy: 0.7170 - lr: 6.2500e-09 - 5s/epoch - 18ms/step\n",
            "Epoch 67/75\n",
            "282/282 - 5s - loss: 0.7354 - accuracy: 0.7447 - val_loss: 0.8070 - val_accuracy: 0.7180 - lr: 3.1250e-10 - 5s/epoch - 19ms/step\n",
            "Epoch 68/75\n",
            "282/282 - 5s - loss: 0.7327 - accuracy: 0.7467 - val_loss: 0.8068 - val_accuracy: 0.7170 - lr: 3.1250e-10 - 5s/epoch - 19ms/step\n",
            "Epoch 69/75\n",
            "282/282 - 5s - loss: 0.7338 - accuracy: 0.7447 - val_loss: 0.8092 - val_accuracy: 0.7190 - lr: 3.1250e-10 - 5s/epoch - 18ms/step\n",
            "Epoch 70/75\n",
            "282/282 - 5s - loss: 0.7339 - accuracy: 0.7418 - val_loss: 0.8088 - val_accuracy: 0.7160 - lr: 3.1250e-10 - 5s/epoch - 18ms/step\n",
            "Epoch 71/75\n",
            "282/282 - 5s - loss: 0.7310 - accuracy: 0.7447 - val_loss: 0.8060 - val_accuracy: 0.7170 - lr: 3.1250e-10 - 5s/epoch - 18ms/step\n",
            "Epoch 72/75\n",
            "282/282 - 5s - loss: 0.7391 - accuracy: 0.7376 - val_loss: 0.8086 - val_accuracy: 0.7190 - lr: 3.1250e-10 - 5s/epoch - 18ms/step\n",
            "Epoch 73/75\n",
            "282/282 - 5s - loss: 0.7320 - accuracy: 0.7421 - val_loss: 0.8091 - val_accuracy: 0.7160 - lr: 3.1250e-10 - 5s/epoch - 18ms/step\n",
            "Epoch 74/75\n",
            "282/282 - 5s - loss: 0.7440 - accuracy: 0.7361 - val_loss: 0.8051 - val_accuracy: 0.7190 - lr: 1.5625e-11 - 5s/epoch - 19ms/step\n",
            "Epoch 75/75\n",
            "282/282 - 5s - loss: 0.7192 - accuracy: 0.7469 - val_loss: 0.8088 - val_accuracy: 0.7170 - lr: 1.5625e-11 - 5s/epoch - 18ms/step\n"
          ]
        }
      ]
    },
    {
      "cell_type": "markdown",
      "metadata": {
        "id": "8E45j25eOh3s"
      },
      "source": [
        "## Model Plots"
      ]
    },
    {
      "cell_type": "code",
      "metadata": {
        "id": "ktmmlInHQCJH",
        "colab": {
          "base_uri": "https://localhost:8080/",
          "height": 539
        },
        "outputId": "7009bc72-42c1-456b-81c3-eab1944931f0"
      },
      "source": [
        "import matplotlib.pyplot as plt\n",
        "plt.figure(figsize=(7,7)) #Setting plot dimensions\n",
        "\n",
        "#Plotting training and test accuracy of model\n",
        "plt.subplot(2,1,1)\n",
        "plt.plot(history.history['accuracy'])\n",
        "plt.plot(history.history['val_accuracy'])\n",
        "plt.title('model accuracy')\n",
        "plt.ylabel('accuracy')\n",
        "plt.xlabel('epoch')\n",
        "plt.legend(['train', 'test'], loc='lower right')\n",
        "\n",
        "#Plotting training and test loss of model\n",
        "plt.subplot(2,1,2)\n",
        "plt.plot(history.history['loss'])\n",
        "plt.plot(history.history['val_loss'])\n",
        "plt.title('model loss')\n",
        "plt.ylabel('loss')\n",
        "plt.xlabel('epoch')\n",
        "plt.legend(['train', 'test'], loc='upper right')\n",
        "plt.suptitle('MLP Classification',fontsize=30,y=1.03)\n",
        "plt.tight_layout()\n",
        "plt.show()\n"
      ],
      "execution_count": 17,
      "outputs": [
        {
          "output_type": "display_data",
          "data": {
            "image/png": "[encoded data removed]",
            "text/plain": [
              "<Figure size 504x504 with 2 Axes>"
            ]
          },
          "metadata": {
            "needs_background": "light"
          }
        }
      ]
    },
    {
      "cell_type": "markdown",
      "metadata": {
        "id": "cri140sBOlfk"
      },
      "source": [
        "## Model Confusion Matrix"
      ]
    },
    {
      "cell_type": "code",
      "metadata": {
        "id": "HVv--s4JQCJI"
      },
      "source": [
        "from sklearn.metrics import classification_report\n",
        "labelNames = ['pop','metal','disco','blues','reggae','classical','rock','hiphop','country','jazz']\n",
        "predictions = model.predict(X_test, batch_size=32) #Use model to predict on the test data"
      ],
      "execution_count": 11,
      "outputs": []
    },
    {
      "cell_type": "code",
      "metadata": {
        "id": "XEealOtnQCJJ",
        "colab": {
          "base_uri": "https://localhost:8080/",
          "height": 314
        },
        "outputId": "1064a1a1-fb6d-4d87-c219-8bdb7f051187"
      },
      "source": [
        "from sklearn.metrics import confusion_matrix\n",
        "import seaborn as sns\n",
        "matrix = confusion_matrix(y_test, predictions.argmax(axis=1)) #Compute confusion matrix to evaluate the accuracy of a classification\n",
        "sns.heatmap(matrix,annot=True,fmt='d',yticklabels=labelNames,xticklabels=labelNames) #Plot confusion matrix as a heatmap\n",
        "plt.title('MLP Classification');"
      ],
      "execution_count": 12,
      "outputs": [
        {
          "output_type": "display_data",
          "data": {
            "image/png": "[encoded data removed]",
            "text/plain": [
              "<Figure size 432x288 with 2 Axes>"
            ]
          },
          "metadata": {
            "needs_background": "light"
          }
        }
      ]
    },
    {
      "cell_type": "markdown",
      "metadata": {
        "id": "IU9e5SdPWfSb"
      },
      "source": [
        "Just Printing the Test Accuracy for clarity!"
      ]
    },
    {
      "cell_type": "code",
      "metadata": {
        "colab": {
          "base_uri": "https://localhost:8080/"
        },
        "id": "Lw3DVKvYVt1U",
        "outputId": "1ecbcd18-9366-416c-eed9-c4a387497896"
      },
      "source": [
        "  # evaluate model on test set\n",
        "  test_loss, test_acc = model.evaluate(X_test, y_test, verbose=2)\n",
        "  print('\\nTest accuracy:', test_acc)"
      ],
      "execution_count": 18,
      "outputs": [
        {
          "output_type": "stream",
          "name": "stdout",
          "text": [
            "32/32 - 0s - loss: 0.8088 - accuracy: 0.7170 - 302ms/epoch - 9ms/step\n",
            "\n",
            "Test accuracy: 0.7170000076293945\n"
          ]
        }
      ]
    }
  ]
}