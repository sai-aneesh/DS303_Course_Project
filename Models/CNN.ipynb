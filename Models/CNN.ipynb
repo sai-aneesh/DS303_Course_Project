{
  "nbformat": 4,
  "nbformat_minor": 0,
  "metadata": {
    "colab": {
      "name": "CNN.ipynb",
      "provenance": [],
      "collapsed_sections": []
    },
    "kernelspec": {
      "name": "python3",
      "display_name": "Python 3"
    },
    "accelerator": "GPU"
  },
  "cells": [
    {
      "cell_type": "markdown",
      "metadata": {
        "id": "CXsmRvwbO29U"
      },
      "source": [
        "# Importing tensorflow"
      ]
    },
    {
      "cell_type": "code",
      "metadata": {
        "id": "GrJsHMi340EX",
        "colab": {
          "base_uri": "https://localhost:8080/",
          "height": 35
        },
        "outputId": "16383ea5-186b-4792-e8dd-04913b56957a"
      },
      "source": [
        "import tensorflow as tf\n",
        "tf.test.gpu_device_name()"
      ],
      "execution_count": 28,
      "outputs": [
        {
          "output_type": "execute_result",
          "data": {
            "application/vnd.google.colaboratory.intrinsic+json": {
              "type": "string"
            },
            "text/plain": [
              "'/device:GPU:0'"
            ]
          },
          "metadata": {},
          "execution_count": 28
        }
      ]
    },
    {
      "cell_type": "markdown",
      "metadata": {
        "id": "pszXmpQ4O5gF"
      },
      "source": [
        "# Mounting the drive\n"
      ]
    },
    {
      "cell_type": "code",
      "metadata": {
        "id": "avHbjzSE4-6T",
        "colab": {
          "base_uri": "https://localhost:8080/"
        },
        "outputId": "990b07ec-d9c5-456a-e483-bba407c75c20"
      },
      "source": [
        "from google.colab import drive\n",
        "drive.mount(\"/content/drive\")"
      ],
      "execution_count": 29,
      "outputs": [
        {
          "output_type": "stream",
          "name": "stdout",
          "text": [
            "Drive already mounted at /content/drive; to attempt to forcibly remount, call drive.mount(\"/content/drive\", force_remount=True).\n"
          ]
        }
      ]
    },
    {
      "cell_type": "markdown",
      "metadata": {
        "id": "54wk9u43PGM1"
      },
      "source": [
        "# Importing libraries & JSON file\n",
        "- Loading MFCC JSON file\n",
        "- SPlitting dataset"
      ]
    },
    {
      "cell_type": "code",
      "metadata": {
        "id": "wMaA-8Py5BfL"
      },
      "source": [
        "import json\n",
        "import numpy as np\n",
        "from sklearn.model_selection import train_test_split\n",
        "\n",
        "from tensorflow.keras.models import Sequential\n",
        "from tensorflow.keras.layers import Dense, Dropout, Flatten,Conv2D,MaxPool2D,BatchNormalization\n",
        "from tensorflow.keras.optimizers import Adam\n",
        "from tensorflow.keras.regularizers import l1_l2,l2\n",
        "\n",
        "with open('/content/drive/MyDrive/ME_781_Adi/gtzan_mfcc.json', \"r\") as file:\n",
        "    data = json.load(file) #Load MFCC dataset from JSON file\n",
        "\n",
        "X = np.array(data[\"mfcc\"]) #Load MFCCs \n",
        "y = np.array(data[\"labels\"]) #Load corresponding genre names\n",
        "\n",
        "\n",
        "\n",
        "X_train, X_test, y_train, y_test = train_test_split(X, y, test_size=0.2,random_state=0) #Splitting data into random training and test sets\n"
      ],
      "execution_count": 30,
      "outputs": []
    },
    {
      "cell_type": "code",
      "metadata": {
        "id": "_8uXlP-d5fS-"
      },
      "source": [
        "X_train = X_train[..., np.newaxis] #Increase dimension of array by one\n",
        "X_test = X_test[..., np.newaxis] #Increase dimension of array by one\n"
      ],
      "execution_count": 31,
      "outputs": []
    },
    {
      "cell_type": "markdown",
      "metadata": {
        "id": "l70OxnONPfyP"
      },
      "source": [
        "# Model (CNN) Initialization\n",
        "- Defining a sequential model\n",
        "- Using Conv2D function via Keras\n",
        "- Max Pooling layer\n",
        "- Input Normalization\n",
        "- Activation function\n",
        "- Dropouts to reduce overfitting"
      ]
    },
    {
      "cell_type": "code",
      "metadata": {
        "id": "s-wfJYZN5n8v"
      },
      "source": [
        "from keras.callbacks import ReduceLROnPlateau\n",
        "rlrop = ReduceLROnPlateau(monitor='val_accuracy', factor=0.1, patience=4) #Reduce learning rate when a metric has stopped improving\n",
        "\n",
        "model = Sequential() #Initializing a sequential model\n",
        "\n",
        "\n",
        "model.add(Conv2D(256,kernel_size=(5,5),input_shape=(X_train.shape[1],X_train.shape[2],1),padding='same',kernel_initializer='he_uniform')) #Add a 2D convolution layer\n",
        "model.add(BatchNormalization()) #Add a layer to normalize the inputs\n",
        "model.add(MaxPool2D(pool_size=(2,2))) #Add a layer for max pooling operation on 2D spatial data\n",
        "\n",
        "model.add(Conv2D(128, kernel_size = (5,5),activation ='relu',padding='same', kernel_initializer='he_uniform')) #Add a 2D convolution layer\n",
        "model.add(BatchNormalization()) #Add a layer to normalize the inputs\n",
        "model.add(MaxPool2D(pool_size=(2,2))) #Add a layer for max pooling operation on 2D spatial data\n",
        "\n",
        "\n",
        "model.add(Conv2D(64, kernel_size = (5,5),activation ='relu',padding='same', kernel_initializer='he_uniform')) #Add a 2D convolution layer\n",
        "model.add(BatchNormalization()) #Add a layer to normalize the inputs\n",
        "model.add(MaxPool2D(pool_size=(2,2))) #Add a layer for max pooling operation on 2D spatial data\n",
        "\n",
        "\n",
        "model.add(Flatten()) #Flattens the input vector\n",
        "\n",
        "\n",
        "model.add(Dense(128, activation = \"relu\", kernel_initializer='he_uniform')) #Add a densely connected layer to the neural network\n",
        "model.add(BatchNormalization()) #Add a layer to normalize the inputs\n",
        "model.add(Dropout(0.2)) #Add dropout to inputs to avoid overfitting \n",
        "\n",
        "\n",
        "model.add(Dense(64, activation = \"relu\", kernel_initializer='he_uniform')) #Add a densely connected layer to the neural network\n",
        "model.add(BatchNormalization()) #Add a layer to normalize the inputs\n",
        "model.add(Dropout(0.2)) #Add dropout to inputs to avoid overfitting \n",
        "\n",
        "\n",
        "model.add(Dense(10, activation = \"softmax\")) #Add a densely connected output layer to the neural network"
      ],
      "execution_count": 32,
      "outputs": []
    },
    {
      "cell_type": "markdown",
      "metadata": {
        "id": "GimajI89P4et"
      },
      "source": [
        "## Optimizing (Adam)"
      ]
    },
    {
      "cell_type": "code",
      "metadata": {
        "id": "QutpyT5e5sEu"
      },
      "source": [
        "optimiser = Adam(learning_rate=0.001) #Initialize Adam optimizer for training\n",
        "model.compile(optimizer=optimiser,loss='sparse_categorical_crossentropy',metrics=['accuracy']) #Configures the model for training"
      ],
      "execution_count": 33,
      "outputs": []
    },
    {
      "cell_type": "markdown",
      "metadata": {
        "id": "yHbwTR8FP8Vk"
      },
      "source": [
        "## Model Summary"
      ]
    },
    {
      "cell_type": "code",
      "metadata": {
        "id": "kclm-Iy95uOd",
        "colab": {
          "base_uri": "https://localhost:8080/"
        },
        "outputId": "bcb923c2-f951-4064-8286-b40ce39e7e0e"
      },
      "source": [
        "model.summary() #Prints a string summary of the network"
      ],
      "execution_count": 34,
      "outputs": [
        {
          "output_type": "stream",
          "name": "stdout",
          "text": [
            "Model: \"sequential_2\"\n",
            "_________________________________________________________________\n",
            " Layer (type)                Output Shape              Param #   \n",
            "=================================================================\n",
            " conv2d_6 (Conv2D)           (None, 130, 13, 256)      6656      \n",
            "                                                                 \n",
            " batch_normalization_10 (Bat  (None, 130, 13, 256)     1024      \n",
            " chNormalization)                                                \n",
            "                                                                 \n",
            " max_pooling2d_6 (MaxPooling  (None, 65, 6, 256)       0         \n",
            " 2D)                                                             \n",
            "                                                                 \n",
            " conv2d_7 (Conv2D)           (None, 65, 6, 128)        819328    \n",
            "                                                                 \n",
            " batch_normalization_11 (Bat  (None, 65, 6, 128)       512       \n",
            " chNormalization)                                                \n",
            "                                                                 \n",
            " max_pooling2d_7 (MaxPooling  (None, 32, 3, 128)       0         \n",
            " 2D)                                                             \n",
            "                                                                 \n",
            " conv2d_8 (Conv2D)           (None, 32, 3, 64)         204864    \n",
            "                                                                 \n",
            " batch_normalization_12 (Bat  (None, 32, 3, 64)        256       \n",
            " chNormalization)                                                \n",
            "                                                                 \n",
            " max_pooling2d_8 (MaxPooling  (None, 16, 1, 64)        0         \n",
            " 2D)                                                             \n",
            "                                                                 \n",
            " flatten_2 (Flatten)         (None, 1024)              0         \n",
            "                                                                 \n",
            " dense_6 (Dense)             (None, 128)               131200    \n",
            "                                                                 \n",
            " batch_normalization_13 (Bat  (None, 128)              512       \n",
            " chNormalization)                                                \n",
            "                                                                 \n",
            " dropout_4 (Dropout)         (None, 128)               0         \n",
            "                                                                 \n",
            " dense_7 (Dense)             (None, 64)                8256      \n",
            "                                                                 \n",
            " batch_normalization_14 (Bat  (None, 64)               256       \n",
            " chNormalization)                                                \n",
            "                                                                 \n",
            " dropout_5 (Dropout)         (None, 64)                0         \n",
            "                                                                 \n",
            " dense_8 (Dense)             (None, 10)                650       \n",
            "                                                                 \n",
            "=================================================================\n",
            "Total params: 1,173,514\n",
            "Trainable params: 1,172,234\n",
            "Non-trainable params: 1,280\n",
            "_________________________________________________________________\n"
          ]
        }
      ]
    },
    {
      "cell_type": "markdown",
      "metadata": {
        "id": "BYqu7zbnRBE9"
      },
      "source": [
        "## Model history"
      ]
    },
    {
      "cell_type": "code",
      "metadata": {
        "id": "amNaWanw5vzg",
        "colab": {
          "base_uri": "https://localhost:8080/"
        },
        "outputId": "e89104f7-c95c-47f3-a3ad-268e1ed940ef"
      },
      "source": [
        "history = model.fit(X_train, y_train, validation_data=(X_test, y_test), batch_size=32, epochs=40,verbose=2,callbacks=[rlrop]) #Trains the model for a fixed number of epochs"
      ],
      "execution_count": 35,
      "outputs": [
        {
          "output_type": "stream",
          "name": "stdout",
          "text": [
            "Epoch 1/40\n",
            "250/250 - 11s - loss: 1.7149 - accuracy: 0.4087 - val_loss: 1.6609 - val_accuracy: 0.4055 - lr: 0.0010 - 11s/epoch - 43ms/step\n",
            "Epoch 2/40\n",
            "250/250 - 9s - loss: 1.3258 - accuracy: 0.5246 - val_loss: 1.3174 - val_accuracy: 0.5145 - lr: 0.0010 - 9s/epoch - 36ms/step\n",
            "Epoch 3/40\n",
            "250/250 - 9s - loss: 1.1672 - accuracy: 0.5878 - val_loss: 1.1334 - val_accuracy: 0.5980 - lr: 0.0010 - 9s/epoch - 37ms/step\n",
            "Epoch 4/40\n",
            "250/250 - 9s - loss: 1.0394 - accuracy: 0.6333 - val_loss: 1.1961 - val_accuracy: 0.5600 - lr: 0.0010 - 9s/epoch - 37ms/step\n",
            "Epoch 5/40\n",
            "250/250 - 9s - loss: 0.9152 - accuracy: 0.6817 - val_loss: 1.0829 - val_accuracy: 0.6065 - lr: 0.0010 - 9s/epoch - 37ms/step\n",
            "Epoch 6/40\n",
            "250/250 - 9s - loss: 0.8081 - accuracy: 0.7207 - val_loss: 0.8828 - val_accuracy: 0.6865 - lr: 0.0010 - 9s/epoch - 37ms/step\n",
            "Epoch 7/40\n",
            "250/250 - 9s - loss: 0.7330 - accuracy: 0.7480 - val_loss: 0.7626 - val_accuracy: 0.7245 - lr: 0.0010 - 9s/epoch - 36ms/step\n",
            "Epoch 8/40\n",
            "250/250 - 9s - loss: 0.6461 - accuracy: 0.7840 - val_loss: 0.9486 - val_accuracy: 0.6625 - lr: 0.0010 - 9s/epoch - 37ms/step\n",
            "Epoch 9/40\n",
            "250/250 - 9s - loss: 0.5835 - accuracy: 0.8060 - val_loss: 0.9368 - val_accuracy: 0.6815 - lr: 0.0010 - 9s/epoch - 36ms/step\n",
            "Epoch 10/40\n",
            "250/250 - 9s - loss: 0.5143 - accuracy: 0.8298 - val_loss: 0.6163 - val_accuracy: 0.7830 - lr: 0.0010 - 9s/epoch - 37ms/step\n",
            "Epoch 11/40\n",
            "250/250 - 9s - loss: 0.4339 - accuracy: 0.8543 - val_loss: 0.6050 - val_accuracy: 0.7875 - lr: 0.0010 - 9s/epoch - 36ms/step\n",
            "Epoch 12/40\n",
            "250/250 - 9s - loss: 0.3867 - accuracy: 0.8717 - val_loss: 0.7202 - val_accuracy: 0.7705 - lr: 0.0010 - 9s/epoch - 37ms/step\n",
            "Epoch 13/40\n",
            "250/250 - 9s - loss: 0.3463 - accuracy: 0.8836 - val_loss: 1.2670 - val_accuracy: 0.6570 - lr: 0.0010 - 9s/epoch - 37ms/step\n",
            "Epoch 14/40\n",
            "250/250 - 9s - loss: 0.3070 - accuracy: 0.8964 - val_loss: 0.6166 - val_accuracy: 0.8180 - lr: 0.0010 - 9s/epoch - 37ms/step\n",
            "Epoch 15/40\n",
            "250/250 - 9s - loss: 0.2493 - accuracy: 0.9186 - val_loss: 0.7528 - val_accuracy: 0.7755 - lr: 0.0010 - 9s/epoch - 36ms/step\n",
            "Epoch 16/40\n",
            "250/250 - 9s - loss: 0.2287 - accuracy: 0.9247 - val_loss: 1.0328 - val_accuracy: 0.7160 - lr: 0.0010 - 9s/epoch - 37ms/step\n",
            "Epoch 17/40\n",
            "250/250 - 9s - loss: 0.2119 - accuracy: 0.9310 - val_loss: 0.5843 - val_accuracy: 0.8080 - lr: 0.0010 - 9s/epoch - 37ms/step\n",
            "Epoch 18/40\n",
            "250/250 - 9s - loss: 0.1754 - accuracy: 0.9408 - val_loss: 0.7104 - val_accuracy: 0.8000 - lr: 0.0010 - 9s/epoch - 36ms/step\n",
            "Epoch 19/40\n",
            "250/250 - 9s - loss: 0.1111 - accuracy: 0.9664 - val_loss: 0.3834 - val_accuracy: 0.8760 - lr: 1.0000e-04 - 9s/epoch - 37ms/step\n",
            "Epoch 20/40\n",
            "250/250 - 9s - loss: 0.0676 - accuracy: 0.9810 - val_loss: 0.3766 - val_accuracy: 0.8830 - lr: 1.0000e-04 - 9s/epoch - 36ms/step\n",
            "Epoch 21/40\n",
            "250/250 - 9s - loss: 0.0576 - accuracy: 0.9856 - val_loss: 0.3775 - val_accuracy: 0.8800 - lr: 1.0000e-04 - 9s/epoch - 37ms/step\n",
            "Epoch 22/40\n",
            "250/250 - 9s - loss: 0.0496 - accuracy: 0.9882 - val_loss: 0.3842 - val_accuracy: 0.8815 - lr: 1.0000e-04 - 9s/epoch - 36ms/step\n",
            "Epoch 23/40\n",
            "250/250 - 9s - loss: 0.0463 - accuracy: 0.9885 - val_loss: 0.3713 - val_accuracy: 0.8840 - lr: 1.0000e-04 - 9s/epoch - 37ms/step\n",
            "Epoch 24/40\n",
            "250/250 - 9s - loss: 0.0439 - accuracy: 0.9879 - val_loss: 0.3739 - val_accuracy: 0.8850 - lr: 1.0000e-04 - 9s/epoch - 37ms/step\n",
            "Epoch 25/40\n",
            "250/250 - 9s - loss: 0.0402 - accuracy: 0.9909 - val_loss: 0.3738 - val_accuracy: 0.8840 - lr: 1.0000e-04 - 9s/epoch - 37ms/step\n",
            "Epoch 26/40\n",
            "250/250 - 10s - loss: 0.0370 - accuracy: 0.9901 - val_loss: 0.3708 - val_accuracy: 0.8870 - lr: 1.0000e-04 - 10s/epoch - 38ms/step\n",
            "Epoch 27/40\n",
            "250/250 - 9s - loss: 0.0343 - accuracy: 0.9912 - val_loss: 0.3969 - val_accuracy: 0.8785 - lr: 1.0000e-04 - 9s/epoch - 37ms/step\n",
            "Epoch 28/40\n",
            "250/250 - 9s - loss: 0.0351 - accuracy: 0.9911 - val_loss: 0.3979 - val_accuracy: 0.8835 - lr: 1.0000e-04 - 9s/epoch - 36ms/step\n",
            "Epoch 29/40\n",
            "250/250 - 9s - loss: 0.0272 - accuracy: 0.9941 - val_loss: 0.3839 - val_accuracy: 0.8880 - lr: 1.0000e-04 - 9s/epoch - 36ms/step\n",
            "Epoch 30/40\n",
            "250/250 - 9s - loss: 0.0276 - accuracy: 0.9941 - val_loss: 0.3748 - val_accuracy: 0.8860 - lr: 1.0000e-04 - 9s/epoch - 36ms/step\n",
            "Epoch 31/40\n",
            "250/250 - 10s - loss: 0.0303 - accuracy: 0.9932 - val_loss: 0.3853 - val_accuracy: 0.8885 - lr: 1.0000e-04 - 10s/epoch - 38ms/step\n",
            "Epoch 32/40\n",
            "250/250 - 9s - loss: 0.0239 - accuracy: 0.9947 - val_loss: 0.3854 - val_accuracy: 0.8830 - lr: 1.0000e-04 - 9s/epoch - 36ms/step\n",
            "Epoch 33/40\n",
            "250/250 - 9s - loss: 0.0271 - accuracy: 0.9930 - val_loss: 0.3735 - val_accuracy: 0.8870 - lr: 1.0000e-04 - 9s/epoch - 36ms/step\n",
            "Epoch 34/40\n",
            "250/250 - 9s - loss: 0.0217 - accuracy: 0.9950 - val_loss: 0.3698 - val_accuracy: 0.8920 - lr: 1.0000e-04 - 9s/epoch - 37ms/step\n",
            "Epoch 35/40\n",
            "250/250 - 9s - loss: 0.0250 - accuracy: 0.9940 - val_loss: 0.3865 - val_accuracy: 0.8860 - lr: 1.0000e-04 - 9s/epoch - 36ms/step\n",
            "Epoch 36/40\n",
            "250/250 - 9s - loss: 0.0224 - accuracy: 0.9939 - val_loss: 0.3727 - val_accuracy: 0.8880 - lr: 1.0000e-04 - 9s/epoch - 37ms/step\n",
            "Epoch 37/40\n",
            "250/250 - 9s - loss: 0.0203 - accuracy: 0.9954 - val_loss: 0.3863 - val_accuracy: 0.8900 - lr: 1.0000e-04 - 9s/epoch - 36ms/step\n",
            "Epoch 38/40\n",
            "250/250 - 9s - loss: 0.0187 - accuracy: 0.9955 - val_loss: 0.4096 - val_accuracy: 0.8840 - lr: 1.0000e-04 - 9s/epoch - 36ms/step\n",
            "Epoch 39/40\n",
            "250/250 - 9s - loss: 0.0196 - accuracy: 0.9945 - val_loss: 0.3872 - val_accuracy: 0.8890 - lr: 1.0000e-05 - 9s/epoch - 36ms/step\n",
            "Epoch 40/40\n",
            "250/250 - 9s - loss: 0.0168 - accuracy: 0.9956 - val_loss: 0.3845 - val_accuracy: 0.8875 - lr: 1.0000e-05 - 9s/epoch - 36ms/step\n"
          ]
        }
      ]
    },
    {
      "cell_type": "markdown",
      "metadata": {
        "id": "hF13DuR6RIWc"
      },
      "source": [
        "## Model Plots"
      ]
    },
    {
      "cell_type": "code",
      "metadata": {
        "id": "I2cl6LFo5xgY",
        "colab": {
          "base_uri": "https://localhost:8080/",
          "height": 539
        },
        "outputId": "27235a97-599b-4d4d-bd5a-17e988d92eed"
      },
      "source": [
        " import matplotlib.pyplot as plt\n",
        "plt.figure(figsize=(7,7)) #Setting plot dimensions\n",
        "\n",
        "#Plotting training and test accuracy of model\n",
        "plt.subplot(2,1,1)\n",
        "plt.plot(history.history['accuracy'])\n",
        "plt.plot(history.history['val_accuracy'])\n",
        "plt.title('model accuracy')\n",
        "plt.ylabel('accuracy')\n",
        "plt.xlabel('epoch')\n",
        "plt.legend(['train', 'test'], loc='lower right')\n",
        "\n",
        "#Plotting training and test loss of model\n",
        "plt.subplot(2,1,2)\n",
        "plt.plot(history.history['loss'])\n",
        "plt.plot(history.history['val_loss'])\n",
        "plt.title('model loss')\n",
        "plt.ylabel('loss')\n",
        "plt.xlabel('epoch')\n",
        "plt.legend(['train', 'test'], loc='upper right')\n",
        "plt.suptitle('CNN Classification',fontsize=30,y=1.03)\n",
        "plt.tight_layout()\n",
        "plt.show()"
      ],
      "execution_count": 36,
      "outputs": [
        {
          "output_type": "display_data",
          "data": {
            "image/png": "[encoded data removed]",
            "text/plain": [
              "<Figure size 504x504 with 2 Axes>"
            ]
          },
          "metadata": {
            "needs_background": "light"
          }
        }
      ]
    },
    {
      "cell_type": "markdown",
      "metadata": {
        "id": "o7UWF5pdRLqs"
      },
      "source": [
        "## Model Confusion Matrix"
      ]
    },
    {
      "cell_type": "code",
      "metadata": {
        "id": "icKvRwWz5972"
      },
      "source": [
        "from sklearn.metrics import classification_report\n",
        "labelNames = ['pop','metal','disco','blues','reggae','classical','rock','hiphop','country','jazz']\n",
        "predictions = model.predict(X_test, batch_size=32) #Use model to predict on the test data"
      ],
      "execution_count": 37,
      "outputs": []
    },
    {
      "cell_type": "code",
      "metadata": {
        "id": "sr3TZVsb6B8O",
        "colab": {
          "base_uri": "https://localhost:8080/",
          "height": 314
        },
        "outputId": "c8f1e11f-a05a-4089-890f-87f94ef8f3c5"
      },
      "source": [
        "from sklearn.metrics import confusion_matrix\n",
        "import seaborn as sns\n",
        "matrix = confusion_matrix(y_test, predictions.argmax(axis=1)) #Compute confusion matrix to evaluate the accuracy of a classification\n",
        "sns.heatmap(matrix,annot=True,fmt='d',yticklabels=labelNames,xticklabels=labelNames) #Plot confusion matrix as a heatmap\n",
        "plt.title('CNN Classification');"
      ],
      "execution_count": 38,
      "outputs": [
        {
          "output_type": "display_data",
          "data": {
            "image/png": "[encoded data removed]",
            "text/plain": [
              "<Figure size 432x288 with 2 Axes>"
            ]
          },
          "metadata": {
            "needs_background": "light"
          }
        }
      ]
    },
    {
      "cell_type": "markdown",
      "metadata": {
        "id": "4GezraJPRQmc"
      },
      "source": [
        "# Saving the model for prediction"
      ]
    },
    {
      "cell_type": "code",
      "metadata": {
        "id": "injRQz916DzK"
      },
      "source": [
        "model.save('/content/drive/MyDrive/SEM5/ME781/Code/music_cnn.h5')"
      ],
      "execution_count": 40,
      "outputs": []
    }
  ]
}