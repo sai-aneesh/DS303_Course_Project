{
  "nbformat": 4,
  "nbformat_minor": 0,
  "metadata": {
    "colab": {
      "name": "LSTM.ipynb",
      "provenance": [],
      "collapsed_sections": [],
      "toc_visible": true
    },
    "kernelspec": {
      "name": "python3",
      "display_name": "Python 3"
    }
  },
  "cells": [
    {
      "cell_type": "markdown",
      "metadata": {
        "id": "pCy0HupVI2kV"
      },
      "source": [
        "# Importing tensorflow"
      ]
    },
    {
      "cell_type": "code",
      "metadata": {
        "id": "GrJsHMi340EX",
        "colab": {
          "base_uri": "https://localhost:8080/",
          "height": 35
        },
        "outputId": "e71a2fe6-df5f-496a-eaf1-378691409d4d"
      },
      "source": [
        "import tensorflow as tf\n",
        "tf.test.gpu_device_name()"
      ],
      "execution_count": 1,
      "outputs": [
        {
          "output_type": "execute_result",
          "data": {
            "application/vnd.google.colaboratory.intrinsic+json": {
              "type": "string"
            },
            "text/plain": [
              "''"
            ]
          },
          "metadata": {},
          "execution_count": 1
        }
      ]
    },
    {
      "cell_type": "markdown",
      "metadata": {
        "id": "d67FKae8I9M1"
      },
      "source": [
        "# Mounting the drive\n"
      ]
    },
    {
      "cell_type": "code",
      "metadata": {
        "id": "avHbjzSE4-6T",
        "colab": {
          "base_uri": "https://localhost:8080/"
        },
        "outputId": "d2772a1a-ba2d-47a5-e496-b3b2c6246985"
      },
      "source": [
        "from google.colab import drive\n",
        "drive.mount(\"/content/drive\")"
      ],
      "execution_count": 2,
      "outputs": [
        {
          "output_type": "stream",
          "name": "stdout",
          "text": [
            "Mounted at /content/drive\n"
          ]
        }
      ]
    },
    {
      "cell_type": "markdown",
      "metadata": {
        "id": "5_32QWR1JQh1"
      },
      "source": [
        "# Importing libraries & JSON file"
      ]
    },
    {
      "cell_type": "code",
      "metadata": {
        "id": "wMaA-8Py5BfL"
      },
      "source": [
        "import json\n",
        "import numpy as np\n",
        "from sklearn.model_selection import train_test_split\n",
        "\n",
        "from tensorflow.keras.models import Sequential\n",
        "from tensorflow.keras.layers import Dense, Dropout, Flatten,LSTM,MaxPool2D,BatchNormalization,GRU\n",
        "from tensorflow.keras.optimizers import Adam,SGD\n",
        "from tensorflow.keras.regularizers import l1_l2,l2\n",
        "\n",
        "with open('/content/drive/MyDrive/ME_781_Adi/gtzan_mfcc.json', \"r\") as file:\n",
        "    data = json.load(file) #Load MFCC dataset from JSON file\n",
        "\n",
        "# convert lists to numpy arrays\n",
        "X = np.array(data[\"mfcc\"]) #Load MFCCs \n",
        "y = np.array(data[\"labels\"]) #Load corresponding genre names\n",
        "\n",
        "\n",
        "\n",
        "X_train, X_test, y_train, y_test = train_test_split(X, y, test_size=0.1,random_state=0) #Splitting data into random training and test sets\n"
      ],
      "execution_count": 3,
      "outputs": []
    },
    {
      "cell_type": "markdown",
      "metadata": {
        "id": "Roi1H-Z5JjOG"
      },
      "source": [
        "# Model (LSTM) Initialization\n",
        "- Adding LSTM layers\n",
        "- Activation Function"
      ]
    },
    {
      "cell_type": "code",
      "metadata": {
        "id": "s-wfJYZN5n8v"
      },
      "source": [
        "from keras.callbacks import ReduceLROnPlateau\n",
        "rlrop = ReduceLROnPlateau(monitor='val_accuracy', factor=0.05, patience=5) #Reduce learning rate when a metric has stopped improving\n",
        "\n",
        "model = Sequential() #Initializing a sequential model\n",
        "\n",
        "model.add(LSTM(128, input_shape=(X_train.shape[1],X_train.shape[2]), return_sequences=True)) #Add a Long Short-Term Memory layer\n",
        "model.add(LSTM(128)) #Add a Long Short-Term Memory layer\n",
        "\n",
        "model.add(Dense(64, activation='relu',kernel_initializer='he_uniform')) #Add a densely connected layer to the neural network\n",
        "model.add(Dense(64, activation='relu',kernel_initializer='he_uniform')) #Add a densely connected layer to the neural network\n",
        "\n",
        "model.add(Dense(10, activation = \"softmax\")) #Add a densely connected output layer to the neural network"
      ],
      "execution_count": 4,
      "outputs": []
    },
    {
      "cell_type": "markdown",
      "metadata": {
        "id": "q9q-19oAJzsF"
      },
      "source": [
        "## Optimizing the model\n",
        "- Adam Optimizer"
      ]
    },
    {
      "cell_type": "code",
      "metadata": {
        "id": "QutpyT5e5sEu"
      },
      "source": [
        "optimiser = Adam(learning_rate=0.0001) #Initializes Adam optimizer for training\n",
        "model.compile(optimizer=optimiser,loss='sparse_categorical_crossentropy',metrics=['accuracy']) #Configures the model for training"
      ],
      "execution_count": 5,
      "outputs": []
    },
    {
      "cell_type": "markdown",
      "metadata": {
        "id": "qHP7mpVbJ41N"
      },
      "source": [
        "### Printing Model Summary"
      ]
    },
    {
      "cell_type": "code",
      "metadata": {
        "id": "kclm-Iy95uOd",
        "colab": {
          "base_uri": "https://localhost:8080/"
        },
        "outputId": "c2f60038-6574-462c-e461-3b8dfcf52d80"
      },
      "source": [
        "model.summary() #Prints a string summary of the network"
      ],
      "execution_count": 6,
      "outputs": [
        {
          "output_type": "stream",
          "name": "stdout",
          "text": [
            "Model: \"sequential\"\n",
            "_________________________________________________________________\n",
            " Layer (type)                Output Shape              Param #   \n",
            "=================================================================\n",
            " lstm (LSTM)                 (None, 130, 128)          72704     \n",
            "                                                                 \n",
            " lstm_1 (LSTM)               (None, 128)               131584    \n",
            "                                                                 \n",
            " dense (Dense)               (None, 64)                8256      \n",
            "                                                                 \n",
            " dense_1 (Dense)             (None, 64)                4160      \n",
            "                                                                 \n",
            " dense_2 (Dense)             (None, 10)                650       \n",
            "                                                                 \n",
            "=================================================================\n",
            "Total params: 217,354\n",
            "Trainable params: 217,354\n",
            "Non-trainable params: 0\n",
            "_________________________________________________________________\n"
          ]
        }
      ]
    },
    {
      "cell_type": "markdown",
      "metadata": {
        "id": "QmgqA6Z-J-ns"
      },
      "source": [
        "# Fitting the model"
      ]
    },
    {
      "cell_type": "code",
      "metadata": {
        "id": "amNaWanw5vzg",
        "colab": {
          "base_uri": "https://localhost:8080/"
        },
        "outputId": "bf9567e9-1c5a-4ccb-92ed-3e93b1a7023b"
      },
      "source": [
        "history = model.fit(X_train, y_train, validation_data=(X_test, y_test), batch_size=32, epochs=40,verbose=2,callbacks=[rlrop]) #Trains the model for a fixed number of epochs"
      ],
      "execution_count": 7,
      "outputs": [
        {
          "output_type": "stream",
          "name": "stdout",
          "text": [
            "Epoch 1/40\n",
            "282/282 - 80s - loss: 1.8885 - accuracy: 0.3516 - val_loss: 1.5237 - val_accuracy: 0.4570 - lr: 1.0000e-04 - 80s/epoch - 283ms/step\n",
            "Epoch 2/40\n",
            "282/282 - 75s - loss: 1.3549 - accuracy: 0.5133 - val_loss: 1.2757 - val_accuracy: 0.5480 - lr: 1.0000e-04 - 75s/epoch - 267ms/step\n",
            "Epoch 3/40\n",
            "282/282 - 75s - loss: 1.1561 - accuracy: 0.5853 - val_loss: 1.1443 - val_accuracy: 0.5960 - lr: 1.0000e-04 - 75s/epoch - 268ms/step\n",
            "Epoch 4/40\n",
            "282/282 - 76s - loss: 1.0380 - accuracy: 0.6338 - val_loss: 1.0530 - val_accuracy: 0.6200 - lr: 1.0000e-04 - 76s/epoch - 268ms/step\n",
            "Epoch 5/40\n",
            "282/282 - 75s - loss: 0.9617 - accuracy: 0.6666 - val_loss: 1.0192 - val_accuracy: 0.6510 - lr: 1.0000e-04 - 75s/epoch - 267ms/step\n",
            "Epoch 6/40\n",
            "282/282 - 75s - loss: 0.8759 - accuracy: 0.6986 - val_loss: 0.9557 - val_accuracy: 0.6620 - lr: 1.0000e-04 - 75s/epoch - 267ms/step\n",
            "Epoch 7/40\n",
            "282/282 - 76s - loss: 0.8054 - accuracy: 0.7220 - val_loss: 0.8897 - val_accuracy: 0.6840 - lr: 1.0000e-04 - 76s/epoch - 268ms/step\n",
            "Epoch 8/40\n",
            "282/282 - 75s - loss: 0.7486 - accuracy: 0.7463 - val_loss: 0.8826 - val_accuracy: 0.6940 - lr: 1.0000e-04 - 75s/epoch - 267ms/step\n",
            "Epoch 9/40\n",
            "282/282 - 75s - loss: 0.6855 - accuracy: 0.7667 - val_loss: 0.8346 - val_accuracy: 0.7190 - lr: 1.0000e-04 - 75s/epoch - 267ms/step\n",
            "Epoch 10/40\n",
            "282/282 - 75s - loss: 0.6470 - accuracy: 0.7772 - val_loss: 0.8483 - val_accuracy: 0.7120 - lr: 1.0000e-04 - 75s/epoch - 266ms/step\n",
            "Epoch 11/40\n",
            "282/282 - 76s - loss: 0.6026 - accuracy: 0.7902 - val_loss: 0.8334 - val_accuracy: 0.7240 - lr: 1.0000e-04 - 76s/epoch - 268ms/step\n",
            "Epoch 12/40\n",
            "282/282 - 75s - loss: 0.5656 - accuracy: 0.8094 - val_loss: 0.8176 - val_accuracy: 0.7360 - lr: 1.0000e-04 - 75s/epoch - 267ms/step\n",
            "Epoch 13/40\n",
            "282/282 - 75s - loss: 0.5334 - accuracy: 0.8204 - val_loss: 0.7949 - val_accuracy: 0.7320 - lr: 1.0000e-04 - 75s/epoch - 267ms/step\n",
            "Epoch 14/40\n",
            "282/282 - 75s - loss: 0.4814 - accuracy: 0.8397 - val_loss: 0.7902 - val_accuracy: 0.7370 - lr: 1.0000e-04 - 75s/epoch - 267ms/step\n",
            "Epoch 15/40\n",
            "282/282 - 75s - loss: 0.4645 - accuracy: 0.8466 - val_loss: 0.7984 - val_accuracy: 0.7340 - lr: 1.0000e-04 - 75s/epoch - 267ms/step\n",
            "Epoch 16/40\n",
            "282/282 - 75s - loss: 0.4349 - accuracy: 0.8540 - val_loss: 0.8109 - val_accuracy: 0.7360 - lr: 1.0000e-04 - 75s/epoch - 267ms/step\n",
            "Epoch 17/40\n",
            "282/282 - 75s - loss: 0.4069 - accuracy: 0.8667 - val_loss: 0.7784 - val_accuracy: 0.7560 - lr: 1.0000e-04 - 75s/epoch - 268ms/step\n",
            "Epoch 18/40\n",
            "282/282 - 75s - loss: 0.3894 - accuracy: 0.8698 - val_loss: 0.7887 - val_accuracy: 0.7460 - lr: 1.0000e-04 - 75s/epoch - 267ms/step\n",
            "Epoch 19/40\n",
            "282/282 - 75s - loss: 0.3541 - accuracy: 0.8866 - val_loss: 0.8067 - val_accuracy: 0.7300 - lr: 1.0000e-04 - 75s/epoch - 267ms/step\n",
            "Epoch 20/40\n",
            "282/282 - 76s - loss: 0.3308 - accuracy: 0.8928 - val_loss: 0.7755 - val_accuracy: 0.7470 - lr: 1.0000e-04 - 76s/epoch - 268ms/step\n",
            "Epoch 21/40\n",
            "282/282 - 75s - loss: 0.3113 - accuracy: 0.9017 - val_loss: 0.7375 - val_accuracy: 0.7680 - lr: 1.0000e-04 - 75s/epoch - 267ms/step\n",
            "Epoch 22/40\n",
            "282/282 - 76s - loss: 0.3062 - accuracy: 0.8997 - val_loss: 0.7688 - val_accuracy: 0.7610 - lr: 1.0000e-04 - 76s/epoch - 268ms/step\n",
            "Epoch 23/40\n",
            "282/282 - 75s - loss: 0.3093 - accuracy: 0.9017 - val_loss: 0.7532 - val_accuracy: 0.7760 - lr: 1.0000e-04 - 75s/epoch - 267ms/step\n",
            "Epoch 24/40\n",
            "282/282 - 75s - loss: 0.2644 - accuracy: 0.9179 - val_loss: 0.7331 - val_accuracy: 0.7860 - lr: 1.0000e-04 - 75s/epoch - 268ms/step\n",
            "Epoch 25/40\n",
            "282/282 - 75s - loss: 0.2567 - accuracy: 0.9191 - val_loss: 0.7735 - val_accuracy: 0.7580 - lr: 1.0000e-04 - 75s/epoch - 267ms/step\n",
            "Epoch 26/40\n",
            "282/282 - 75s - loss: 0.2407 - accuracy: 0.9256 - val_loss: 0.7442 - val_accuracy: 0.7710 - lr: 1.0000e-04 - 75s/epoch - 267ms/step\n",
            "Epoch 27/40\n",
            "282/282 - 76s - loss: 0.2124 - accuracy: 0.9367 - val_loss: 0.7465 - val_accuracy: 0.7680 - lr: 1.0000e-04 - 76s/epoch - 268ms/step\n",
            "Epoch 28/40\n",
            "282/282 - 76s - loss: 0.2137 - accuracy: 0.9336 - val_loss: 0.7629 - val_accuracy: 0.7800 - lr: 1.0000e-04 - 76s/epoch - 268ms/step\n",
            "Epoch 29/40\n",
            "282/282 - 76s - loss: 0.2038 - accuracy: 0.9372 - val_loss: 0.7650 - val_accuracy: 0.7790 - lr: 1.0000e-04 - 76s/epoch - 269ms/step\n",
            "Epoch 30/40\n",
            "282/282 - 76s - loss: 0.1527 - accuracy: 0.9593 - val_loss: 0.7173 - val_accuracy: 0.7890 - lr: 5.0000e-06 - 76s/epoch - 268ms/step\n",
            "Epoch 31/40\n",
            "282/282 - 76s - loss: 0.1367 - accuracy: 0.9653 - val_loss: 0.7093 - val_accuracy: 0.7890 - lr: 5.0000e-06 - 76s/epoch - 268ms/step\n",
            "Epoch 32/40\n",
            "282/282 - 76s - loss: 0.1303 - accuracy: 0.9680 - val_loss: 0.7100 - val_accuracy: 0.7880 - lr: 5.0000e-06 - 76s/epoch - 268ms/step\n",
            "Epoch 33/40\n",
            "282/282 - 75s - loss: 0.1254 - accuracy: 0.9692 - val_loss: 0.7162 - val_accuracy: 0.7890 - lr: 5.0000e-06 - 75s/epoch - 267ms/step\n",
            "Epoch 34/40\n",
            "282/282 - 75s - loss: 0.1220 - accuracy: 0.9702 - val_loss: 0.7148 - val_accuracy: 0.7820 - lr: 5.0000e-06 - 75s/epoch - 267ms/step\n",
            "Epoch 35/40\n",
            "282/282 - 75s - loss: 0.1185 - accuracy: 0.9710 - val_loss: 0.7232 - val_accuracy: 0.7840 - lr: 5.0000e-06 - 75s/epoch - 267ms/step\n",
            "Epoch 36/40\n",
            "282/282 - 76s - loss: 0.1146 - accuracy: 0.9728 - val_loss: 0.7231 - val_accuracy: 0.7830 - lr: 2.5000e-07 - 76s/epoch - 268ms/step\n",
            "Epoch 37/40\n",
            "282/282 - 75s - loss: 0.1144 - accuracy: 0.9727 - val_loss: 0.7230 - val_accuracy: 0.7860 - lr: 2.5000e-07 - 75s/epoch - 267ms/step\n",
            "Epoch 38/40\n",
            "282/282 - 76s - loss: 0.1142 - accuracy: 0.9725 - val_loss: 0.7230 - val_accuracy: 0.7850 - lr: 2.5000e-07 - 76s/epoch - 268ms/step\n",
            "Epoch 39/40\n",
            "282/282 - 75s - loss: 0.1140 - accuracy: 0.9728 - val_loss: 0.7231 - val_accuracy: 0.7850 - lr: 2.5000e-07 - 75s/epoch - 267ms/step\n",
            "Epoch 40/40\n",
            "282/282 - 75s - loss: 0.1138 - accuracy: 0.9729 - val_loss: 0.7231 - val_accuracy: 0.7850 - lr: 2.5000e-07 - 75s/epoch - 267ms/step\n"
          ]
        }
      ]
    },
    {
      "cell_type": "markdown",
      "metadata": {
        "id": "v-UFnQObRnzU"
      },
      "source": [
        "## Model plots"
      ]
    },
    {
      "cell_type": "code",
      "metadata": {
        "id": "I2cl6LFo5xgY",
        "colab": {
          "base_uri": "https://localhost:8080/",
          "height": 539
        },
        "outputId": "d09791fe-a51f-416b-e24f-06a323857a8e"
      },
      "source": [
        "import matplotlib.pyplot as plt\n",
        "plt.figure(figsize=(7,7)) #Setting plot dimensions\n",
        "\n",
        "#Plotting training and test accuracy of model\n",
        "plt.subplot(2,1,1)\n",
        "plt.plot(history.history['accuracy'])\n",
        "plt.plot(history.history['val_accuracy'])\n",
        "plt.title('model accuracy')\n",
        "plt.ylabel('accuracy')\n",
        "plt.xlabel('epoch')\n",
        "plt.legend(['train', 'test'], loc='lower right')\n",
        "\n",
        "#Plotting training and test loss of model\n",
        "plt.subplot(2,1,2)\n",
        "plt.plot(history.history['loss'])\n",
        "plt.plot(history.history['val_loss'])\n",
        "plt.title('model loss')\n",
        "plt.ylabel('loss')\n",
        "plt.xlabel('epoch')\n",
        "plt.legend(['train', 'test'], loc='upper right')\n",
        "plt.suptitle('LSTM Classification',fontsize=30,y=1.03)\n",
        "plt.tight_layout()\n",
        "plt.show()"
      ],
      "execution_count": null,
      "outputs": [
        {
          "output_type": "display_data",
          "data": {
            "image/png": "[encoded data removed]",
            "text/plain": [
              "<Figure size 504x504 with 2 Axes>"
            ]
          },
          "metadata": {
            "needs_background": "light"
          }
        }
      ]
    },
    {
      "cell_type": "markdown",
      "metadata": {
        "id": "ExB9VU9HRq80"
      },
      "source": [
        "## Model Confusion Matrix"
      ]
    },
    {
      "cell_type": "code",
      "metadata": {
        "id": "icKvRwWz5972"
      },
      "source": [
        "from sklearn.metrics import classification_report\n",
        "labelNames = ['pop','metal','disco','blues','reggae','classical','rock','hiphop','country','jazz']\n",
        "predictions = model.predict(X_test, batch_size=32) #Use model to predict on the test data"
      ],
      "execution_count": null,
      "outputs": []
    },
    {
      "cell_type": "code",
      "metadata": {
        "id": "sr3TZVsb6B8O",
        "colab": {
          "base_uri": "https://localhost:8080/",
          "height": 314
        },
        "outputId": "680af0b3-3e8c-4104-9aae-e114532dd590"
      },
      "source": [
        "from sklearn.metrics import confusion_matrix\n",
        "import seaborn as sns\n",
        "matrix = confusion_matrix(y_test, predictions.argmax(axis=1)) #Compute confusion matrix to evaluate the accuracy of a classification\n",
        "sns.heatmap(matrix,annot=True,fmt='d',yticklabels=labelNames,xticklabels=labelNames) #Plot confusion matrix as a heatmap\n",
        "plt.title('LSTM Classification');"
      ],
      "execution_count": null,
      "outputs": [
        {
          "output_type": "display_data",
          "data": {
            "image/png": "[encoded data removed]",
            "text/plain": [
              "<Figure size 432x288 with 2 Axes>"
            ]
          },
          "metadata": {
            "needs_background": "light"
          }
        }
      ]
    },
    {
      "cell_type": "markdown",
      "metadata": {
        "id": "Jfm06j4zWWw0"
      },
      "source": [
        "Just Printing the Test Accuracy for clarity!"
      ]
    },
    {
      "cell_type": "code",
      "metadata": {
        "colab": {
          "base_uri": "https://localhost:8080/"
        },
        "id": "P3BCvgZQV2sE",
        "outputId": "c95e0750-a1f9-40b3-95cf-9438a93e9d64"
      },
      "source": [
        "  # evaluate model on test set\n",
        "  test_loss, test_acc = model.evaluate(X_test, y_test, verbose=2)\n",
        "  print('\\nTest accuracy:', test_acc)"
      ],
      "execution_count": 12,
      "outputs": [
        {
          "output_type": "stream",
          "name": "stdout",
          "text": [
            "32/32 - 2s - loss: 0.7231 - accuracy: 0.7850 - 2s/epoch - 75ms/step\n",
            "\n",
            "Test accuracy: 0.7850000262260437\n"
          ]
        }
      ]
    }
  ]
}